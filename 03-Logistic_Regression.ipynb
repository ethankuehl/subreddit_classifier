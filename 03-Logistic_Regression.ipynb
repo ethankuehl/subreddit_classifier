{
 "cells": [
  {
   "cell_type": "code",
   "execution_count": 1,
   "metadata": {
    "ExecuteTime": {
     "end_time": "2021-01-30T21:34:35.686363Z",
     "start_time": "2021-01-30T21:34:33.342855Z"
    }
   },
   "outputs": [],
   "source": [
    "import pandas as pd\n",
    "import re\n",
    "\n",
    "from collections import Counter\n",
    "from vaderSentiment.vaderSentiment import SentimentIntensityAnalyzer\n",
    "from sklearn.feature_extraction.text import CountVectorizer, TfidfVectorizer\n",
    "from nltk.stem import WordNetLemmatizer\n",
    "from nltk.tag import pos_tag\n",
    "from nltk.tokenize import WordPunctTokenizer\n",
    "from nltk.corpus import wordnet\n",
    "\n",
    "from sklearn.linear_model import LogisticRegression\n",
    "from sklearn.model_selection import train_test_split, GridSearchCV"
   ]
  },
  {
   "cell_type": "code",
   "execution_count": 2,
   "metadata": {
    "ExecuteTime": {
     "end_time": "2021-01-30T21:34:35.941390Z",
     "start_time": "2021-01-30T21:34:35.689733Z"
    }
   },
   "outputs": [],
   "source": [
    "df = pd.read_csv('./Data/casual_political.csv')"
   ]
  },
  {
   "cell_type": "code",
   "execution_count": 3,
   "metadata": {
    "ExecuteTime": {
     "end_time": "2021-01-30T21:34:35.985682Z",
     "start_time": "2021-01-30T21:34:35.943642Z"
    }
   },
   "outputs": [
    {
     "data": {
      "text/html": [
       "<div>\n",
       "<style scoped>\n",
       "    .dataframe tbody tr th:only-of-type {\n",
       "        vertical-align: middle;\n",
       "    }\n",
       "\n",
       "    .dataframe tbody tr th {\n",
       "        vertical-align: top;\n",
       "    }\n",
       "\n",
       "    .dataframe thead th {\n",
       "        text-align: right;\n",
       "    }\n",
       "</style>\n",
       "<table border=\"1\" class=\"dataframe\">\n",
       "  <thead>\n",
       "    <tr style=\"text-align: right;\">\n",
       "      <th></th>\n",
       "      <th>binary_sub</th>\n",
       "      <th>NN</th>\n",
       "      <th>NNP</th>\n",
       "      <th>VBG</th>\n",
       "      <th>PRP</th>\n",
       "      <th>VBP</th>\n",
       "      <th>TO</th>\n",
       "      <th>VB</th>\n",
       "      <th>IN</th>\n",
       "      <th>CC</th>\n",
       "      <th>...</th>\n",
       "      <th>RB</th>\n",
       "      <th>RBR</th>\n",
       "      <th>PRP$</th>\n",
       "      <th>VBN</th>\n",
       "      <th>MD</th>\n",
       "      <th>vader_neg</th>\n",
       "      <th>vader_pos</th>\n",
       "      <th>vader_neu</th>\n",
       "      <th>vader_compond</th>\n",
       "      <th>lemma_totaltext</th>\n",
       "    </tr>\n",
       "  </thead>\n",
       "  <tbody>\n",
       "    <tr>\n",
       "      <th>0</th>\n",
       "      <td>1</td>\n",
       "      <td>0.079545</td>\n",
       "      <td>0.034091</td>\n",
       "      <td>0.011364</td>\n",
       "      <td>0.034091</td>\n",
       "      <td>0.045455</td>\n",
       "      <td>0.034091</td>\n",
       "      <td>0.079545</td>\n",
       "      <td>0.147727</td>\n",
       "      <td>0.034091</td>\n",
       "      <td>...</td>\n",
       "      <td>0.056818</td>\n",
       "      <td>0.011364</td>\n",
       "      <td>0.011364</td>\n",
       "      <td>0.011364</td>\n",
       "      <td>0.022727</td>\n",
       "      <td>0.042</td>\n",
       "      <td>0.103</td>\n",
       "      <td>0.854</td>\n",
       "      <td>0.6868</td>\n",
       "      <td>How important be the legislative achievement o...</td>\n",
       "    </tr>\n",
       "    <tr>\n",
       "      <th>1</th>\n",
       "      <td>0</td>\n",
       "      <td>0.233184</td>\n",
       "      <td>0.031390</td>\n",
       "      <td>0.013453</td>\n",
       "      <td>0.017937</td>\n",
       "      <td>0.026906</td>\n",
       "      <td>0.035874</td>\n",
       "      <td>0.044843</td>\n",
       "      <td>0.103139</td>\n",
       "      <td>0.044843</td>\n",
       "      <td>...</td>\n",
       "      <td>0.080717</td>\n",
       "      <td>0.000000</td>\n",
       "      <td>0.026906</td>\n",
       "      <td>0.008969</td>\n",
       "      <td>0.004484</td>\n",
       "      <td>0.016</td>\n",
       "      <td>0.109</td>\n",
       "      <td>0.874</td>\n",
       "      <td>0.9644</td>\n",
       "      <td>Does anybody use music song as their life s ti...</td>\n",
       "    </tr>\n",
       "    <tr>\n",
       "      <th>2</th>\n",
       "      <td>0</td>\n",
       "      <td>0.203704</td>\n",
       "      <td>0.018519</td>\n",
       "      <td>0.018519</td>\n",
       "      <td>0.055556</td>\n",
       "      <td>0.018519</td>\n",
       "      <td>0.018519</td>\n",
       "      <td>0.074074</td>\n",
       "      <td>0.092593</td>\n",
       "      <td>0.018519</td>\n",
       "      <td>...</td>\n",
       "      <td>0.074074</td>\n",
       "      <td>0.000000</td>\n",
       "      <td>0.055556</td>\n",
       "      <td>0.074074</td>\n",
       "      <td>0.037037</td>\n",
       "      <td>0.062</td>\n",
       "      <td>0.000</td>\n",
       "      <td>0.938</td>\n",
       "      <td>-0.5267</td>\n",
       "      <td>My school be stupid The teacher have be instru...</td>\n",
       "    </tr>\n",
       "    <tr>\n",
       "      <th>3</th>\n",
       "      <td>0</td>\n",
       "      <td>0.155844</td>\n",
       "      <td>0.051948</td>\n",
       "      <td>0.038961</td>\n",
       "      <td>0.103896</td>\n",
       "      <td>0.038961</td>\n",
       "      <td>0.012987</td>\n",
       "      <td>0.025974</td>\n",
       "      <td>0.129870</td>\n",
       "      <td>0.025974</td>\n",
       "      <td>...</td>\n",
       "      <td>0.051948</td>\n",
       "      <td>0.000000</td>\n",
       "      <td>0.051948</td>\n",
       "      <td>0.025974</td>\n",
       "      <td>0.000000</td>\n",
       "      <td>0.063</td>\n",
       "      <td>0.120</td>\n",
       "      <td>0.817</td>\n",
       "      <td>0.6996</td>\n",
       "      <td>Anyone wanna just chat about life I finish my ...</td>\n",
       "    </tr>\n",
       "    <tr>\n",
       "      <th>4</th>\n",
       "      <td>1</td>\n",
       "      <td>0.166667</td>\n",
       "      <td>0.083333</td>\n",
       "      <td>0.020833</td>\n",
       "      <td>0.020833</td>\n",
       "      <td>0.020833</td>\n",
       "      <td>0.020833</td>\n",
       "      <td>0.041667</td>\n",
       "      <td>0.083333</td>\n",
       "      <td>0.020833</td>\n",
       "      <td>...</td>\n",
       "      <td>0.083333</td>\n",
       "      <td>0.000000</td>\n",
       "      <td>0.000000</td>\n",
       "      <td>0.020833</td>\n",
       "      <td>0.000000</td>\n",
       "      <td>0.000</td>\n",
       "      <td>0.059</td>\n",
       "      <td>0.941</td>\n",
       "      <td>0.4696</td>\n",
       "      <td>How do Kentucky a heavily red state elect only...</td>\n",
       "    </tr>\n",
       "    <tr>\n",
       "      <th>...</th>\n",
       "      <td>...</td>\n",
       "      <td>...</td>\n",
       "      <td>...</td>\n",
       "      <td>...</td>\n",
       "      <td>...</td>\n",
       "      <td>...</td>\n",
       "      <td>...</td>\n",
       "      <td>...</td>\n",
       "      <td>...</td>\n",
       "      <td>...</td>\n",
       "      <td>...</td>\n",
       "      <td>...</td>\n",
       "      <td>...</td>\n",
       "      <td>...</td>\n",
       "      <td>...</td>\n",
       "      <td>...</td>\n",
       "      <td>...</td>\n",
       "      <td>...</td>\n",
       "      <td>...</td>\n",
       "      <td>...</td>\n",
       "      <td>...</td>\n",
       "    </tr>\n",
       "    <tr>\n",
       "      <th>20053</th>\n",
       "      <td>1</td>\n",
       "      <td>0.118421</td>\n",
       "      <td>0.105263</td>\n",
       "      <td>0.026316</td>\n",
       "      <td>0.026316</td>\n",
       "      <td>0.105263</td>\n",
       "      <td>0.013158</td>\n",
       "      <td>0.013158</td>\n",
       "      <td>0.065789</td>\n",
       "      <td>0.078947</td>\n",
       "      <td>...</td>\n",
       "      <td>0.052632</td>\n",
       "      <td>0.013158</td>\n",
       "      <td>0.000000</td>\n",
       "      <td>0.000000</td>\n",
       "      <td>0.000000</td>\n",
       "      <td>0.047</td>\n",
       "      <td>0.102</td>\n",
       "      <td>0.851</td>\n",
       "      <td>0.5803</td>\n",
       "      <td>Are there other news program that call out whe...</td>\n",
       "    </tr>\n",
       "    <tr>\n",
       "      <th>20054</th>\n",
       "      <td>0</td>\n",
       "      <td>0.129944</td>\n",
       "      <td>0.045198</td>\n",
       "      <td>0.045198</td>\n",
       "      <td>0.135593</td>\n",
       "      <td>0.033898</td>\n",
       "      <td>0.039548</td>\n",
       "      <td>0.045198</td>\n",
       "      <td>0.096045</td>\n",
       "      <td>0.045198</td>\n",
       "      <td>...</td>\n",
       "      <td>0.062147</td>\n",
       "      <td>0.000000</td>\n",
       "      <td>0.028249</td>\n",
       "      <td>0.033898</td>\n",
       "      <td>0.005650</td>\n",
       "      <td>0.083</td>\n",
       "      <td>0.070</td>\n",
       "      <td>0.847</td>\n",
       "      <td>-0.5520</td>\n",
       "      <td>I get scammed on Facebook and I m really hurt ...</td>\n",
       "    </tr>\n",
       "    <tr>\n",
       "      <th>20055</th>\n",
       "      <td>0</td>\n",
       "      <td>0.062500</td>\n",
       "      <td>0.062500</td>\n",
       "      <td>0.041667</td>\n",
       "      <td>0.104167</td>\n",
       "      <td>0.104167</td>\n",
       "      <td>0.041667</td>\n",
       "      <td>0.062500</td>\n",
       "      <td>0.104167</td>\n",
       "      <td>0.041667</td>\n",
       "      <td>...</td>\n",
       "      <td>0.083333</td>\n",
       "      <td>0.000000</td>\n",
       "      <td>0.000000</td>\n",
       "      <td>0.000000</td>\n",
       "      <td>0.000000</td>\n",
       "      <td>0.106</td>\n",
       "      <td>0.088</td>\n",
       "      <td>0.805</td>\n",
       "      <td>-0.2461</td>\n",
       "      <td>Why be it so hard on Christmas Eve Eve to find...</td>\n",
       "    </tr>\n",
       "    <tr>\n",
       "      <th>20056</th>\n",
       "      <td>0</td>\n",
       "      <td>0.140000</td>\n",
       "      <td>0.060000</td>\n",
       "      <td>0.000000</td>\n",
       "      <td>0.120000</td>\n",
       "      <td>0.060000</td>\n",
       "      <td>0.020000</td>\n",
       "      <td>0.000000</td>\n",
       "      <td>0.200000</td>\n",
       "      <td>0.020000</td>\n",
       "      <td>...</td>\n",
       "      <td>0.060000</td>\n",
       "      <td>0.000000</td>\n",
       "      <td>0.000000</td>\n",
       "      <td>0.000000</td>\n",
       "      <td>0.000000</td>\n",
       "      <td>0.000</td>\n",
       "      <td>0.150</td>\n",
       "      <td>0.850</td>\n",
       "      <td>0.7748</td>\n",
       "      <td>What s an album that you like every single son...</td>\n",
       "    </tr>\n",
       "    <tr>\n",
       "      <th>20057</th>\n",
       "      <td>0</td>\n",
       "      <td>0.160256</td>\n",
       "      <td>0.000000</td>\n",
       "      <td>0.064103</td>\n",
       "      <td>0.089744</td>\n",
       "      <td>0.038462</td>\n",
       "      <td>0.044872</td>\n",
       "      <td>0.051282</td>\n",
       "      <td>0.147436</td>\n",
       "      <td>0.064103</td>\n",
       "      <td>...</td>\n",
       "      <td>0.038462</td>\n",
       "      <td>0.000000</td>\n",
       "      <td>0.038462</td>\n",
       "      <td>0.025641</td>\n",
       "      <td>0.000000</td>\n",
       "      <td>0.050</td>\n",
       "      <td>0.127</td>\n",
       "      <td>0.823</td>\n",
       "      <td>0.9173</td>\n",
       "      <td>I just move out of my home As it kinda say on ...</td>\n",
       "    </tr>\n",
       "  </tbody>\n",
       "</table>\n",
       "<p>20058 rows × 23 columns</p>\n",
       "</div>"
      ],
      "text/plain": [
       "       binary_sub        NN       NNP       VBG       PRP       VBP        TO  \\\n",
       "0               1  0.079545  0.034091  0.011364  0.034091  0.045455  0.034091   \n",
       "1               0  0.233184  0.031390  0.013453  0.017937  0.026906  0.035874   \n",
       "2               0  0.203704  0.018519  0.018519  0.055556  0.018519  0.018519   \n",
       "3               0  0.155844  0.051948  0.038961  0.103896  0.038961  0.012987   \n",
       "4               1  0.166667  0.083333  0.020833  0.020833  0.020833  0.020833   \n",
       "...           ...       ...       ...       ...       ...       ...       ...   \n",
       "20053           1  0.118421  0.105263  0.026316  0.026316  0.105263  0.013158   \n",
       "20054           0  0.129944  0.045198  0.045198  0.135593  0.033898  0.039548   \n",
       "20055           0  0.062500  0.062500  0.041667  0.104167  0.104167  0.041667   \n",
       "20056           0  0.140000  0.060000  0.000000  0.120000  0.060000  0.020000   \n",
       "20057           0  0.160256  0.000000  0.064103  0.089744  0.038462  0.044872   \n",
       "\n",
       "             VB        IN        CC  ...        RB       RBR      PRP$  \\\n",
       "0      0.079545  0.147727  0.034091  ...  0.056818  0.011364  0.011364   \n",
       "1      0.044843  0.103139  0.044843  ...  0.080717  0.000000  0.026906   \n",
       "2      0.074074  0.092593  0.018519  ...  0.074074  0.000000  0.055556   \n",
       "3      0.025974  0.129870  0.025974  ...  0.051948  0.000000  0.051948   \n",
       "4      0.041667  0.083333  0.020833  ...  0.083333  0.000000  0.000000   \n",
       "...         ...       ...       ...  ...       ...       ...       ...   \n",
       "20053  0.013158  0.065789  0.078947  ...  0.052632  0.013158  0.000000   \n",
       "20054  0.045198  0.096045  0.045198  ...  0.062147  0.000000  0.028249   \n",
       "20055  0.062500  0.104167  0.041667  ...  0.083333  0.000000  0.000000   \n",
       "20056  0.000000  0.200000  0.020000  ...  0.060000  0.000000  0.000000   \n",
       "20057  0.051282  0.147436  0.064103  ...  0.038462  0.000000  0.038462   \n",
       "\n",
       "            VBN        MD  vader_neg  vader_pos  vader_neu  vader_compond  \\\n",
       "0      0.011364  0.022727      0.042      0.103      0.854         0.6868   \n",
       "1      0.008969  0.004484      0.016      0.109      0.874         0.9644   \n",
       "2      0.074074  0.037037      0.062      0.000      0.938        -0.5267   \n",
       "3      0.025974  0.000000      0.063      0.120      0.817         0.6996   \n",
       "4      0.020833  0.000000      0.000      0.059      0.941         0.4696   \n",
       "...         ...       ...        ...        ...        ...            ...   \n",
       "20053  0.000000  0.000000      0.047      0.102      0.851         0.5803   \n",
       "20054  0.033898  0.005650      0.083      0.070      0.847        -0.5520   \n",
       "20055  0.000000  0.000000      0.106      0.088      0.805        -0.2461   \n",
       "20056  0.000000  0.000000      0.000      0.150      0.850         0.7748   \n",
       "20057  0.025641  0.000000      0.050      0.127      0.823         0.9173   \n",
       "\n",
       "                                         lemma_totaltext  \n",
       "0      How important be the legislative achievement o...  \n",
       "1      Does anybody use music song as their life s ti...  \n",
       "2      My school be stupid The teacher have be instru...  \n",
       "3      Anyone wanna just chat about life I finish my ...  \n",
       "4      How do Kentucky a heavily red state elect only...  \n",
       "...                                                  ...  \n",
       "20053  Are there other news program that call out whe...  \n",
       "20054  I get scammed on Facebook and I m really hurt ...  \n",
       "20055  Why be it so hard on Christmas Eve Eve to find...  \n",
       "20056  What s an album that you like every single son...  \n",
       "20057  I just move out of my home As it kinda say on ...  \n",
       "\n",
       "[20058 rows x 23 columns]"
      ]
     },
     "execution_count": 3,
     "metadata": {},
     "output_type": "execute_result"
    }
   ],
   "source": [
    "df"
   ]
  },
  {
   "cell_type": "code",
   "execution_count": 4,
   "metadata": {
    "ExecuteTime": {
     "end_time": "2021-01-30T21:34:35.997113Z",
     "start_time": "2021-01-30T21:34:35.988162Z"
    }
   },
   "outputs": [],
   "source": [
    "X = df.drop(columns='binary_sub')\n",
    "y = df['binary_sub']"
   ]
  },
  {
   "cell_type": "code",
   "execution_count": 5,
   "metadata": {
    "ExecuteTime": {
     "end_time": "2021-01-30T21:34:36.011678Z",
     "start_time": "2021-01-30T21:34:35.999597Z"
    }
   },
   "outputs": [],
   "source": [
    "X_train, X_test, y_train, y_test = train_test_split(X, y, test_size=0.2, random_state=16)"
   ]
  },
  {
   "cell_type": "code",
   "execution_count": 6,
   "metadata": {
    "ExecuteTime": {
     "end_time": "2021-01-30T21:34:36.016299Z",
     "start_time": "2021-01-30T21:34:36.013738Z"
    }
   },
   "outputs": [],
   "source": [
    "#X_train"
   ]
  },
  {
   "cell_type": "code",
   "execution_count": 7,
   "metadata": {
    "ExecuteTime": {
     "end_time": "2021-01-30T21:34:36.025549Z",
     "start_time": "2021-01-30T21:34:36.022327Z"
    }
   },
   "outputs": [],
   "source": [
    "tvec = TfidfVectorizer(stop_words='english', min_df=3)"
   ]
  },
  {
   "cell_type": "code",
   "execution_count": 8,
   "metadata": {
    "ExecuteTime": {
     "end_time": "2021-01-30T21:34:37.940806Z",
     "start_time": "2021-01-30T21:34:36.029280Z"
    }
   },
   "outputs": [],
   "source": [
    "X_train_tvec = tvec.fit_transform(X_train['lemma_totaltext'])\n",
    "\n",
    "X_test_tvec = tvec.transform(X_test['lemma_totaltext'])"
   ]
  },
  {
   "cell_type": "code",
   "execution_count": 9,
   "metadata": {
    "ExecuteTime": {
     "end_time": "2021-01-30T21:34:37.954605Z",
     "start_time": "2021-01-30T21:34:37.942980Z"
    }
   },
   "outputs": [],
   "source": [
    "vocab = tvec.get_feature_names()"
   ]
  },
  {
   "cell_type": "code",
   "execution_count": 10,
   "metadata": {
    "ExecuteTime": {
     "end_time": "2021-01-30T21:34:39.314172Z",
     "start_time": "2021-01-30T21:34:37.957379Z"
    }
   },
   "outputs": [],
   "source": [
    "train_tvec_df = pd.DataFrame(X_train_tvec.todense(), columns=vocab)\n",
    "test_tvec_df = pd.DataFrame(X_test_tvec.todense(), columns=vocab)"
   ]
  },
  {
   "cell_type": "code",
   "execution_count": 11,
   "metadata": {
    "ExecuteTime": {
     "end_time": "2021-01-30T21:34:39.358874Z",
     "start_time": "2021-01-30T21:34:39.348548Z"
    }
   },
   "outputs": [],
   "source": [
    "#train_tvec_df"
   ]
  },
  {
   "cell_type": "code",
   "execution_count": 12,
   "metadata": {
    "ExecuteTime": {
     "end_time": "2021-01-30T21:34:39.534604Z",
     "start_time": "2021-01-30T21:34:39.364247Z"
    }
   },
   "outputs": [],
   "source": [
    "X_train = X_train.drop(columns='lemma_totaltext')"
   ]
  },
  {
   "cell_type": "code",
   "execution_count": 13,
   "metadata": {
    "ExecuteTime": {
     "end_time": "2021-01-30T21:34:39.543566Z",
     "start_time": "2021-01-30T21:34:39.537163Z"
    }
   },
   "outputs": [],
   "source": [
    "X_train.reset_index(drop=True, inplace=True)"
   ]
  },
  {
   "cell_type": "code",
   "execution_count": 14,
   "metadata": {
    "ExecuteTime": {
     "end_time": "2021-01-30T21:34:45.759090Z",
     "start_time": "2021-01-30T21:34:39.555741Z"
    }
   },
   "outputs": [],
   "source": [
    "train_df = pd.concat([X_train, train_tvec_df], axis=1, ignore_index=True)"
   ]
  },
  {
   "cell_type": "code",
   "execution_count": 15,
   "metadata": {
    "ExecuteTime": {
     "end_time": "2021-01-30T21:34:45.766050Z",
     "start_time": "2021-01-30T21:34:45.761838Z"
    }
   },
   "outputs": [],
   "source": [
    "#train_df"
   ]
  },
  {
   "cell_type": "code",
   "execution_count": 16,
   "metadata": {
    "ExecuteTime": {
     "end_time": "2021-01-30T21:34:45.775634Z",
     "start_time": "2021-01-30T21:34:45.768044Z"
    }
   },
   "outputs": [],
   "source": [
    "X_test = X_test.drop(columns='lemma_totaltext')"
   ]
  },
  {
   "cell_type": "code",
   "execution_count": 17,
   "metadata": {
    "ExecuteTime": {
     "end_time": "2021-01-30T21:34:45.781175Z",
     "start_time": "2021-01-30T21:34:45.777889Z"
    }
   },
   "outputs": [],
   "source": [
    "X_test.reset_index(drop=True, inplace=True)"
   ]
  },
  {
   "cell_type": "code",
   "execution_count": 18,
   "metadata": {
    "ExecuteTime": {
     "end_time": "2021-01-30T21:34:47.404344Z",
     "start_time": "2021-01-30T21:34:45.783316Z"
    }
   },
   "outputs": [],
   "source": [
    "test_df = pd.concat([X_test, test_tvec_df], axis=1)"
   ]
  },
  {
   "cell_type": "code",
   "execution_count": 19,
   "metadata": {
    "ExecuteTime": {
     "end_time": "2021-01-30T21:34:47.414998Z",
     "start_time": "2021-01-30T21:34:47.406559Z"
    }
   },
   "outputs": [],
   "source": [
    "lr = LogisticRegression()"
   ]
  },
  {
   "cell_type": "code",
   "execution_count": 20,
   "metadata": {
    "ExecuteTime": {
     "end_time": "2021-01-30T21:35:12.391297Z",
     "start_time": "2021-01-30T21:34:47.427368Z"
    }
   },
   "outputs": [
    {
     "data": {
      "text/plain": [
       "LogisticRegression()"
      ]
     },
     "execution_count": 20,
     "metadata": {},
     "output_type": "execute_result"
    }
   ],
   "source": [
    "lr.fit(train_df, y_train)"
   ]
  },
  {
   "cell_type": "code",
   "execution_count": 21,
   "metadata": {
    "ExecuteTime": {
     "end_time": "2021-01-30T21:35:15.174251Z",
     "start_time": "2021-01-30T21:35:12.438192Z"
    }
   },
   "outputs": [
    {
     "data": {
      "text/plain": [
       "0.993456313099838"
      ]
     },
     "execution_count": 21,
     "metadata": {},
     "output_type": "execute_result"
    }
   ],
   "source": [
    "train_accuracy = lr.score(train_df, y_train)\n",
    "train_accuracy"
   ]
  },
  {
   "cell_type": "code",
   "execution_count": 22,
   "metadata": {
    "ExecuteTime": {
     "end_time": "2021-01-30T21:35:17.195070Z",
     "start_time": "2021-01-30T21:35:15.222774Z"
    }
   },
   "outputs": [
    {
     "data": {
      "text/plain": [
       "0.9850448654037887"
      ]
     },
     "execution_count": 22,
     "metadata": {},
     "output_type": "execute_result"
    }
   ],
   "source": [
    "test_accuracy = lr.score(test_df, y_test)\n",
    "test_accuracy"
   ]
  },
  {
   "cell_type": "code",
   "execution_count": null,
   "metadata": {},
   "outputs": [],
   "source": []
  },
  {
   "cell_type": "code",
   "execution_count": null,
   "metadata": {},
   "outputs": [],
   "source": []
  },
  {
   "cell_type": "code",
   "execution_count": 23,
   "metadata": {
    "ExecuteTime": {
     "end_time": "2021-01-30T21:35:17.210383Z",
     "start_time": "2021-01-30T21:35:17.200431Z"
    }
   },
   "outputs": [],
   "source": [
    "# df['lemma_text'] = df['selftext'].apply(lambda x: lemmatize_text(x))\n",
    "\n",
    "# df['lemma_title'] = df['title'].apply(lambda x: lemmatize_text(x))\n",
    "\n",
    "# df['totaltext'] = df['lemma_title'] + df['lemma_text']\n",
    "\n",
    "# tvec = TfidfVectorizer(stop_words='english', min_df=3)\n",
    "# x = tvec.fit_transform(df['totaltext'])\n",
    "\n",
    "# df_1 = pd.DataFrame(tvec.transform(df['totaltext']).todense(),\n",
    "#                    columns=vocab)\n",
    "\n",
    "# df_1 = df_1.T\n",
    "\n",
    "# df_1['total_tfidf_score'] = df_1.sum(axis=1)\n",
    "\n",
    "# df_1\n",
    "\n"
   ]
  }
 ],
 "metadata": {
  "kernelspec": {
   "display_name": "Python 3",
   "language": "python",
   "name": "python3"
  },
  "language_info": {
   "codemirror_mode": {
    "name": "ipython",
    "version": 3
   },
   "file_extension": ".py",
   "mimetype": "text/x-python",
   "name": "python",
   "nbconvert_exporter": "python",
   "pygments_lexer": "ipython3",
   "version": "3.8.5"
  }
 },
 "nbformat": 4,
 "nbformat_minor": 4
}
