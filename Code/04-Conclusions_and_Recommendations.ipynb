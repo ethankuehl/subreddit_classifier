{
 "cells": [
  {
   "cell_type": "markdown",
   "metadata": {},
   "source": [
    "# Conclusions and Recommendations"
   ]
  },
  {
   "cell_type": "markdown",
   "metadata": {},
   "source": [
    "## Recap of Problem Statement\n",
    "\n",
    "As of 2016, [roughly one third](https://www.pewresearch.org/internet/2016/10/25/political-content-on-social-media/) of Americans comment, discuss, or post about politics on social media. As a result, political campaigns have begun to invest significant resources into political advertising on social media. In order to craft targeted ads, political advertising agencies are investing significant resources into [identifying the populations of social media users discussing politics](https://www.americanbar.org/groups/crsj/publications/human_rights_magazine_home/voting-in-2020/political-advertising-on-social-media-platforms/). The goal of this project is to build a text classification model that can differentiate between casual and political conversations on social media to aid advertising agencies target particular users for specific ads. "
   ]
  },
  {
   "cell_type": "markdown",
   "metadata": {},
   "source": [
    "## Recap of Methodology\n",
    "\n",
    "* Collect data from 10,000 posts from r/CasualConversations and r/PoliticalDiscussions using Pushshift API.\n",
    "    * I collect an even number of posts from each subreddit so that the baseline accuracy is equivalent to the flip of a coin: 50/50. \n",
    "* Clean text data, engineer new features with NLP, and lemmatize text so that each word maintains its meaning but is reduced to its base form.  \n",
    "* Split data into training and testing datasets to validate the performance of my model. Model will be created with training data, and then its accuracy will be tested using the testing data. \n",
    "* Vectorize the text data using TF-IDF methodology to account for outliers and weigh each word according to its importance to the meaning of a senetence. \n",
    "* Fit the data to a logistic regression and random forest classification model. Analyze the classification metrics to determine which model performed better. "
   ]
  },
  {
   "cell_type": "markdown",
   "metadata": {},
   "source": [
    "## Modeling Summary Table\n",
    "\n",
    "|Model| Train Accuracy| Test Accuracy| AUC ROC| True Positive| True Negative| False Positive| False Negative|\n",
    "|---|---|---|---|---|---|---|---|\n",
    "|Logistic Regression| 1.0|0.989|0.989|1983|1984|21|24|\n",
    "|Random Forest|1.0|0.990|0.990|1993|1981|12|26|"
   ]
  },
  {
   "cell_type": "markdown",
   "metadata": {},
   "source": [
    "## Conclusions\n",
    "\n",
    "* Sentiment and parts-of-speech analysis were not as useful as analyzing the vocabulary of a given text. \n",
    "* The large amount of data collected helped the logistic Regression and Random Forest performed almost identically well.\n",
    "* While I was worried that the words \"politic\", \"politics\", and \"political\" were creating a leaky model, it turned out the random forest performed almost exactly the same as the model trained with those words included in training set. \n",
    "* There is a huge difference in the vocabulary used in r/PoliticalDiscussions compared to r/CasualConversation\n",
    "* As a result, it is possible to classify posts with 99% accuracy , regardless of model. \n",
    "\n",
    "\n",
    "## Recommendations and Next Steps\n",
    "\n",
    "I would suggest that political advertising agencies use my random forest model for classifying whether social media posts are political in nature or not. The 99% accuracy suggests that the model is ready for beta tests on other subreddits and then to different social media sites other than reddit. However, before taking the model live, I would want to further analyze how overfit my model is to the training data by collecting another large batch of testing samples and assessing the predictive accuracy of my model. Furthermore, I would want to conduct a larger gridsearch for the random forest and logistic regression to ensure that I have optimized the hyperparameters as much as possible. "
   ]
  }
 ],
 "metadata": {
  "kernelspec": {
   "display_name": "Python 3",
   "language": "python",
   "name": "python3"
  },
  "language_info": {
   "codemirror_mode": {
    "name": "ipython",
    "version": 3
   },
   "file_extension": ".py",
   "mimetype": "text/x-python",
   "name": "python",
   "nbconvert_exporter": "python",
   "pygments_lexer": "ipython3",
   "version": "3.8.5"
  }
 },
 "nbformat": 4,
 "nbformat_minor": 4
}
