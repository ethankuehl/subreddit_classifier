{
 "cells": [
  {
   "cell_type": "markdown",
   "metadata": {},
   "source": [
    "# Random Forest Modeling \n",
    "\n",
    "Before Describing the Random Forest, lets look at what the forest is compromised of: decision trees. Decision trees takes a dataset consisting of $X$ and $Y$ data, finds rules based on our $X$ data that partitions (splits) our data into smaller datasets such that by the bottom of the tree, the values $Y$ in each \"leaf node\" are as \"pure\" as possible. This is very similar to the game of 20 question: start with a general question and progressively refine until the finding answer. \n",
    "\n",
    "We then create an ensemble of decision trees utilizing the bootstrap methodology. Our goal is to estimate $f$, the true function by aggregating decision trees together so that the model is not overfit. We can come up with different models $m_1$, $m_2$, and so on to get as close to $f$ as possible. (Think about $m_1$ as the model you built to predict $f$, think of $m_2$ as the model your neighbor built to predict $f$, and so on.)\n",
    "\n",
    "A Random forest is a modified tree tree learning algorithm similar to bootstrapping that selects, at each split in the learning process, a random subset of the features. This process is sometimes called the random subspace method.\n",
    "\n",
    "The reason for doing this is the correlation of the trees in an ordinary bootstrap sample: if one or a few features are very strong predictors for the response variable (target output), these features will be used in many/all of the bagged decision trees, causing them to become correlated. By selecting a random subset of features at each split, we counter this correlation between base trees, strengthening the overall model."
   ]
  },
  {
   "cell_type": "code",
   "execution_count": 168,
   "metadata": {
    "ExecuteTime": {
     "end_time": "2021-02-01T06:14:48.533573Z",
     "start_time": "2021-02-01T06:14:48.524367Z"
    }
   },
   "outputs": [],
   "source": [
    "import pandas as pd\n",
    "import numpy as np\n",
    "import matplotlib.pyplot as plt\n",
    "import math\n",
    "import time\n",
    "\n",
    "from sklearn import metrics as metrics\n",
    "from sklearn.preprocessing import StandardScaler\n",
    "from sklearn.feature_extraction.text import CountVectorizer, TfidfVectorizer\n",
    "from sklearn.model_selection import train_test_split, GridSearchCV\n",
    "from sklearn.ensemble import RandomForestClassifier\n",
    "from sklearn.pipeline import Pipeline\n",
    "from sklearn.metrics import confusion_matrix\n",
    "from sklearn.metrics import roc_auc_score"
   ]
  },
  {
   "cell_type": "code",
   "execution_count": 61,
   "metadata": {
    "ExecuteTime": {
     "end_time": "2021-02-01T03:20:46.844357Z",
     "start_time": "2021-02-01T03:20:46.424343Z"
    }
   },
   "outputs": [],
   "source": [
    "# Reading in the DataFrame\n",
    "df = pd.read_csv('./Data/casual_political.csv')"
   ]
  },
  {
   "cell_type": "code",
   "execution_count": 95,
   "metadata": {
    "ExecuteTime": {
     "end_time": "2021-02-01T05:26:06.473308Z",
     "start_time": "2021-02-01T05:26:06.118337Z"
    }
   },
   "outputs": [
    {
     "data": {
      "text/html": [
       "<div>\n",
       "<style scoped>\n",
       "    .dataframe tbody tr th:only-of-type {\n",
       "        vertical-align: middle;\n",
       "    }\n",
       "\n",
       "    .dataframe tbody tr th {\n",
       "        vertical-align: top;\n",
       "    }\n",
       "\n",
       "    .dataframe thead th {\n",
       "        text-align: right;\n",
       "    }\n",
       "</style>\n",
       "<table border=\"1\" class=\"dataframe\">\n",
       "  <thead>\n",
       "    <tr style=\"text-align: right;\">\n",
       "      <th></th>\n",
       "      <th>binary_sub</th>\n",
       "      <th>NN</th>\n",
       "      <th>NNP</th>\n",
       "      <th>VBG</th>\n",
       "      <th>PRP</th>\n",
       "      <th>VBP</th>\n",
       "      <th>TO</th>\n",
       "      <th>VB</th>\n",
       "      <th>IN</th>\n",
       "      <th>CC</th>\n",
       "      <th>...</th>\n",
       "      <th>DT</th>\n",
       "      <th>RB</th>\n",
       "      <th>RBR</th>\n",
       "      <th>PRP$</th>\n",
       "      <th>VBN</th>\n",
       "      <th>vader_negative</th>\n",
       "      <th>vader_positive</th>\n",
       "      <th>vader_neutral</th>\n",
       "      <th>vader_compound</th>\n",
       "      <th>lemma_totaltext</th>\n",
       "    </tr>\n",
       "  </thead>\n",
       "  <tbody>\n",
       "    <tr>\n",
       "      <th>0</th>\n",
       "      <td>1</td>\n",
       "      <td>0.172185</td>\n",
       "      <td>0.059603</td>\n",
       "      <td>0.033113</td>\n",
       "      <td>0.046358</td>\n",
       "      <td>0.052980</td>\n",
       "      <td>0.033113</td>\n",
       "      <td>0.066225</td>\n",
       "      <td>0.145695</td>\n",
       "      <td>0.039735</td>\n",
       "      <td>...</td>\n",
       "      <td>0.125828</td>\n",
       "      <td>0.039735</td>\n",
       "      <td>0.000000</td>\n",
       "      <td>0.000000</td>\n",
       "      <td>0.019868</td>\n",
       "      <td>0.070</td>\n",
       "      <td>0.127</td>\n",
       "      <td>0.802</td>\n",
       "      <td>0.9173</td>\n",
       "      <td>Could the Senate move for a motion of no confi...</td>\n",
       "    </tr>\n",
       "    <tr>\n",
       "      <th>1</th>\n",
       "      <td>1</td>\n",
       "      <td>0.107143</td>\n",
       "      <td>0.023810</td>\n",
       "      <td>0.000000</td>\n",
       "      <td>0.047619</td>\n",
       "      <td>0.047619</td>\n",
       "      <td>0.011905</td>\n",
       "      <td>0.059524</td>\n",
       "      <td>0.095238</td>\n",
       "      <td>0.047619</td>\n",
       "      <td>...</td>\n",
       "      <td>0.095238</td>\n",
       "      <td>0.071429</td>\n",
       "      <td>0.000000</td>\n",
       "      <td>0.000000</td>\n",
       "      <td>0.083333</td>\n",
       "      <td>0.206</td>\n",
       "      <td>0.073</td>\n",
       "      <td>0.721</td>\n",
       "      <td>-0.8732</td>\n",
       "      <td>Should verbal error by presidential candidate ...</td>\n",
       "    </tr>\n",
       "    <tr>\n",
       "      <th>2</th>\n",
       "      <td>0</td>\n",
       "      <td>0.131429</td>\n",
       "      <td>0.000000</td>\n",
       "      <td>0.034286</td>\n",
       "      <td>0.154286</td>\n",
       "      <td>0.057143</td>\n",
       "      <td>0.017143</td>\n",
       "      <td>0.034286</td>\n",
       "      <td>0.148571</td>\n",
       "      <td>0.051429</td>\n",
       "      <td>...</td>\n",
       "      <td>0.062857</td>\n",
       "      <td>0.051429</td>\n",
       "      <td>0.011429</td>\n",
       "      <td>0.028571</td>\n",
       "      <td>0.034286</td>\n",
       "      <td>0.141</td>\n",
       "      <td>0.083</td>\n",
       "      <td>0.777</td>\n",
       "      <td>-0.8438</td>\n",
       "      <td>I finally get bang today after a year of go ba...</td>\n",
       "    </tr>\n",
       "    <tr>\n",
       "      <th>3</th>\n",
       "      <td>0</td>\n",
       "      <td>0.202020</td>\n",
       "      <td>0.060606</td>\n",
       "      <td>0.030303</td>\n",
       "      <td>0.090909</td>\n",
       "      <td>0.020202</td>\n",
       "      <td>0.010101</td>\n",
       "      <td>0.030303</td>\n",
       "      <td>0.131313</td>\n",
       "      <td>0.040404</td>\n",
       "      <td>...</td>\n",
       "      <td>0.121212</td>\n",
       "      <td>0.070707</td>\n",
       "      <td>0.000000</td>\n",
       "      <td>0.000000</td>\n",
       "      <td>0.000000</td>\n",
       "      <td>0.113</td>\n",
       "      <td>0.059</td>\n",
       "      <td>0.827</td>\n",
       "      <td>-0.7461</td>\n",
       "      <td>Is it just me or do anyone else feel no differ...</td>\n",
       "    </tr>\n",
       "    <tr>\n",
       "      <th>4</th>\n",
       "      <td>1</td>\n",
       "      <td>0.131148</td>\n",
       "      <td>0.000000</td>\n",
       "      <td>0.032787</td>\n",
       "      <td>0.049180</td>\n",
       "      <td>0.065574</td>\n",
       "      <td>0.049180</td>\n",
       "      <td>0.065574</td>\n",
       "      <td>0.131148</td>\n",
       "      <td>0.049180</td>\n",
       "      <td>...</td>\n",
       "      <td>0.131148</td>\n",
       "      <td>0.032787</td>\n",
       "      <td>0.000000</td>\n",
       "      <td>0.016393</td>\n",
       "      <td>0.000000</td>\n",
       "      <td>0.126</td>\n",
       "      <td>0.168</td>\n",
       "      <td>0.707</td>\n",
       "      <td>0.4847</td>\n",
       "      <td>What be some issue both Democrats and Republic...</td>\n",
       "    </tr>\n",
       "  </tbody>\n",
       "</table>\n",
       "<p>5 rows × 22 columns</p>\n",
       "</div>"
      ],
      "text/plain": [
       "   binary_sub        NN       NNP       VBG       PRP       VBP        TO  \\\n",
       "0           1  0.172185  0.059603  0.033113  0.046358  0.052980  0.033113   \n",
       "1           1  0.107143  0.023810  0.000000  0.047619  0.047619  0.011905   \n",
       "2           0  0.131429  0.000000  0.034286  0.154286  0.057143  0.017143   \n",
       "3           0  0.202020  0.060606  0.030303  0.090909  0.020202  0.010101   \n",
       "4           1  0.131148  0.000000  0.032787  0.049180  0.065574  0.049180   \n",
       "\n",
       "         VB        IN        CC  ...        DT        RB       RBR      PRP$  \\\n",
       "0  0.066225  0.145695  0.039735  ...  0.125828  0.039735  0.000000  0.000000   \n",
       "1  0.059524  0.095238  0.047619  ...  0.095238  0.071429  0.000000  0.000000   \n",
       "2  0.034286  0.148571  0.051429  ...  0.062857  0.051429  0.011429  0.028571   \n",
       "3  0.030303  0.131313  0.040404  ...  0.121212  0.070707  0.000000  0.000000   \n",
       "4  0.065574  0.131148  0.049180  ...  0.131148  0.032787  0.000000  0.016393   \n",
       "\n",
       "        VBN  vader_negative  vader_positive  vader_neutral  vader_compound  \\\n",
       "0  0.019868           0.070           0.127          0.802          0.9173   \n",
       "1  0.083333           0.206           0.073          0.721         -0.8732   \n",
       "2  0.034286           0.141           0.083          0.777         -0.8438   \n",
       "3  0.000000           0.113           0.059          0.827         -0.7461   \n",
       "4  0.000000           0.126           0.168          0.707          0.4847   \n",
       "\n",
       "                                     lemma_totaltext  \n",
       "0  Could the Senate move for a motion of no confi...  \n",
       "1  Should verbal error by presidential candidate ...  \n",
       "2  I finally get bang today after a year of go ba...  \n",
       "3  Is it just me or do anyone else feel no differ...  \n",
       "4  What be some issue both Democrats and Republic...  \n",
       "\n",
       "[5 rows x 22 columns]"
      ]
     },
     "execution_count": 95,
     "metadata": {},
     "output_type": "execute_result"
    }
   ],
   "source": [
    "# Checking the head of the DataFrame to ensure everything is the same as LogReg\n",
    "df.head()"
   ]
  },
  {
   "cell_type": "code",
   "execution_count": 78,
   "metadata": {
    "ExecuteTime": {
     "end_time": "2021-02-01T03:21:27.280010Z",
     "start_time": "2021-02-01T03:21:26.813581Z"
    }
   },
   "outputs": [],
   "source": [
    "# Creating scaffolding of pipeline for Random Forrest, similar to Logistic Regression\n",
    "pipe = Pipeline([\n",
    "    \n",
    "    ('tvec', TfidfVectorizer(analyzer='word', stop_words='english')),\n",
    "    ('rf', RandomForestClassifier(random_state=16))\n",
    "    \n",
    "])"
   ]
  },
  {
   "cell_type": "code",
   "execution_count": 79,
   "metadata": {
    "ExecuteTime": {
     "end_time": "2021-02-01T03:21:27.587646Z",
     "start_time": "2021-02-01T03:21:27.287005Z"
    }
   },
   "outputs": [],
   "source": [
    "# Predictor variable are only the lemmatized text\n",
    "X = df['lemma_totaltext']\n",
    "y = df['binary_sub']"
   ]
  },
  {
   "cell_type": "code",
   "execution_count": 80,
   "metadata": {
    "ExecuteTime": {
     "end_time": "2021-02-01T03:21:27.736196Z",
     "start_time": "2021-02-01T03:21:27.590104Z"
    }
   },
   "outputs": [],
   "source": [
    "X_train, X_test, y_train, y_test = train_test_split(X, y, test_size=0.2, random_state=16)"
   ]
  },
  {
   "cell_type": "markdown",
   "metadata": {},
   "source": [
    "### GridSearch Parameters for Random Forest\n",
    "\n",
    "n_estimators\n",
    "\n",
    "* Number of trees in the forest\n",
    "* The default is 100, and the higher the number, the less likelihood that the model will overfit to the training data\n",
    "    * Also, the higher the number, the higher the number of votes for the correct class, which makes predictions more stable.\n",
    "\n",
    "\n",
    "max_depth\n",
    "\n",
    "* Max number of levels in each decision tree\n",
    "* The default is None, which means the decision tree splits on every node until each leaf node is 100% pure.\n",
    "* There is a high risk of overfitting to the training data.\n",
    "\n",
    "max_features\n",
    "\n",
    "* Max number of features that are considered at every decision node to split a node\n",
    "* The higher number of max features also results in a high risk of overfitting."
   ]
  },
  {
   "cell_type": "code",
   "execution_count": 81,
   "metadata": {
    "ExecuteTime": {
     "end_time": "2021-02-01T03:21:27.755347Z",
     "start_time": "2021-02-01T03:21:27.739926Z"
    }
   },
   "outputs": [],
   "source": [
    "# Parameters to GridSearch over \n",
    "params = {\n",
    "    'rf__n_estimators': [75, 100, 175, 250],\n",
    "    'rf__max_depth': [None, 5, 50, 100],\n",
    "    'rf__max_features': ['auto','log2', 10, 50],\n",
    "}"
   ]
  },
  {
   "cell_type": "code",
   "execution_count": 82,
   "metadata": {
    "ExecuteTime": {
     "end_time": "2021-02-01T03:37:27.991246Z",
     "start_time": "2021-02-01T03:21:27.803604Z"
    }
   },
   "outputs": [
    {
     "name": "stdout",
     "output_type": "stream",
     "text": [
      "Fitting 5 folds for each of 64 candidates, totalling 320 fits\n"
     ]
    },
    {
     "name": "stderr",
     "output_type": "stream",
     "text": [
      "[Parallel(n_jobs=-1)]: Using backend LokyBackend with 4 concurrent workers.\n",
      "[Parallel(n_jobs=-1)]: Done  42 tasks      | elapsed:  3.8min\n",
      "[Parallel(n_jobs=-1)]: Done 192 tasks      | elapsed:  9.7min\n",
      "[Parallel(n_jobs=-1)]: Done 320 out of 320 | elapsed: 15.5min finished\n"
     ]
    },
    {
     "data": {
      "text/plain": [
       "GridSearchCV(cv=5,\n",
       "             estimator=Pipeline(steps=[('tvec',\n",
       "                                        TfidfVectorizer(stop_words='english')),\n",
       "                                       ('rf',\n",
       "                                        RandomForestClassifier(random_state=16))]),\n",
       "             n_jobs=-1,\n",
       "             param_grid={'rf__max_depth': [None, 5, 50, 100],\n",
       "                         'rf__max_features': ['auto', 'log2', 10, 50],\n",
       "                         'rf__n_estimators': [75, 100, 175, 250]},\n",
       "             scoring='accuracy', verbose=1)"
      ]
     },
     "execution_count": 82,
     "metadata": {},
     "output_type": "execute_result"
    }
   ],
   "source": [
    "# Fitting grid search model to the training data\n",
    "\n",
    "grid = GridSearchCV(pipe, params, cv = 5,\n",
    "                    scoring = 'accuracy', verbose = 1, n_jobs = -1)\n",
    "\n",
    "grid.fit(X_train, y_train)"
   ]
  },
  {
   "cell_type": "code",
   "execution_count": 83,
   "metadata": {
    "ExecuteTime": {
     "end_time": "2021-02-01T03:37:28.025796Z",
     "start_time": "2021-02-01T03:37:28.012951Z"
    }
   },
   "outputs": [
    {
     "data": {
      "text/plain": [
       "{'rf__max_depth': None, 'rf__max_features': 10, 'rf__n_estimators': 250}"
      ]
     },
     "execution_count": 83,
     "metadata": {},
     "output_type": "execute_result"
    }
   ],
   "source": [
    "# Best random forest parameters determined by gridsearch\n",
    "grid.best_params_"
   ]
  },
  {
   "cell_type": "code",
   "execution_count": 84,
   "metadata": {
    "ExecuteTime": {
     "end_time": "2021-02-01T03:37:33.403261Z",
     "start_time": "2021-02-01T03:37:28.028060Z"
    }
   },
   "outputs": [
    {
     "data": {
      "text/plain": [
       "1.0"
      ]
     },
     "execution_count": 84,
     "metadata": {},
     "output_type": "execute_result"
    }
   ],
   "source": [
    "# Grid search training accuracy\n",
    "grid.score(X_train, y_train)"
   ]
  },
  {
   "cell_type": "code",
   "execution_count": 85,
   "metadata": {
    "ExecuteTime": {
     "end_time": "2021-02-01T03:37:34.800589Z",
     "start_time": "2021-02-01T03:37:33.406484Z"
    }
   },
   "outputs": [
    {
     "data": {
      "text/plain": [
       "0.9905284147557328"
      ]
     },
     "execution_count": 85,
     "metadata": {},
     "output_type": "execute_result"
    }
   ],
   "source": [
    "# Grid Search test accuracy \n",
    "grid.score(X_test, y_test)"
   ]
  },
  {
   "cell_type": "markdown",
   "metadata": {},
   "source": [
    "The training accuracy is 100% and the testing accuracy is 99%. The testing accuracy for this data is even more accurate than for the logistic regression! It is also not overfit or underfit compared to the training accuracy. "
   ]
  },
  {
   "cell_type": "code",
   "execution_count": 107,
   "metadata": {
    "ExecuteTime": {
     "end_time": "2021-02-01T05:40:58.243412Z",
     "start_time": "2021-02-01T05:40:57.996883Z"
    }
   },
   "outputs": [],
   "source": [
    "# https://scikit-learn.org/stable/auto_examples/ensemble/plot_forest_importances.html\n",
    "\n",
    "# Finding the timportance of each word in the model\n",
    "importances = grid.best_estimator_.named_steps['rf'].feature_importances_\n",
    "\n",
    "# Finding standard deviation of each feature importance score\n",
    "std = np.std([tree.feature_importances_ for tree in grid.best_estimator_.named_steps['rf']],\n",
    "             axis=0)\n",
    "\n",
    "# Ordering indices so that features with largest standard deviation are first\n",
    "indices = np.argsort(std)[::-1]\n",
    "\n",
    "# Getting Each word vectorized and used in the model \n",
    "vocab = grid.best_estimator_.named_steps['tvec'].get_feature_names()\n",
    "\n",
    "# Creating feature_df \n",
    "feature_df = pd.DataFrame({'Top Words', 'Importance'}).set_index(0)\n",
    "\n",
    "# Iterating over indices and creating DataFrame with 25 most important words\n",
    "i = 0\n",
    "while i < 25: \n",
    "    feature_df.loc[i, 'Top Words'] = vocab[indices[i]]\n",
    "    feature_df.loc[i, 'Importance'] = importances[indices[i]]\n",
    "    i+=1"
   ]
  },
  {
   "cell_type": "code",
   "execution_count": 108,
   "metadata": {
    "ExecuteTime": {
     "end_time": "2021-02-01T05:40:58.916974Z",
     "start_time": "2021-02-01T05:40:58.907774Z"
    }
   },
   "outputs": [],
   "source": [
    "feature_df = feature_df.set_index('Top Words').dropna()"
   ]
  },
  {
   "cell_type": "code",
   "execution_count": 109,
   "metadata": {
    "ExecuteTime": {
     "end_time": "2021-02-01T05:40:59.640617Z",
     "start_time": "2021-02-01T05:40:59.627759Z"
    }
   },
   "outputs": [
    {
     "data": {
      "text/html": [
       "<div>\n",
       "<style scoped>\n",
       "    .dataframe tbody tr th:only-of-type {\n",
       "        vertical-align: middle;\n",
       "    }\n",
       "\n",
       "    .dataframe tbody tr th {\n",
       "        vertical-align: top;\n",
       "    }\n",
       "\n",
       "    .dataframe thead th {\n",
       "        text-align: right;\n",
       "    }\n",
       "</style>\n",
       "<table border=\"1\" class=\"dataframe\">\n",
       "  <thead>\n",
       "    <tr style=\"text-align: right;\">\n",
       "      <th></th>\n",
       "      <th>Importance</th>\n",
       "    </tr>\n",
       "    <tr>\n",
       "      <th>Top Words</th>\n",
       "      <th></th>\n",
       "    </tr>\n",
       "  </thead>\n",
       "  <tbody>\n",
       "    <tr>\n",
       "      <th>trump</th>\n",
       "      <td>0.016914</td>\n",
       "    </tr>\n",
       "    <tr>\n",
       "      <th>election</th>\n",
       "      <td>0.007751</td>\n",
       "    </tr>\n",
       "    <tr>\n",
       "      <th>just</th>\n",
       "      <td>0.008066</td>\n",
       "    </tr>\n",
       "    <tr>\n",
       "      <th>feel</th>\n",
       "      <td>0.005617</td>\n",
       "    </tr>\n",
       "    <tr>\n",
       "      <th>clinton</th>\n",
       "      <td>0.006313</td>\n",
       "    </tr>\n",
       "    <tr>\n",
       "      <th>friend</th>\n",
       "      <td>0.005776</td>\n",
       "    </tr>\n",
       "    <tr>\n",
       "      <th>candidate</th>\n",
       "      <td>0.006831</td>\n",
       "    </tr>\n",
       "    <tr>\n",
       "      <th>republican</th>\n",
       "      <td>0.005013</td>\n",
       "    </tr>\n",
       "    <tr>\n",
       "      <th>president</th>\n",
       "      <td>0.005561</td>\n",
       "    </tr>\n",
       "    <tr>\n",
       "      <th>really</th>\n",
       "      <td>0.005231</td>\n",
       "    </tr>\n",
       "    <tr>\n",
       "      <th>know</th>\n",
       "      <td>0.005241</td>\n",
       "    </tr>\n",
       "    <tr>\n",
       "      <th>political</th>\n",
       "      <td>0.004487</td>\n",
       "    </tr>\n",
       "    <tr>\n",
       "      <th>don</th>\n",
       "      <td>0.005067</td>\n",
       "    </tr>\n",
       "    <tr>\n",
       "      <th>state</th>\n",
       "      <td>0.005281</td>\n",
       "    </tr>\n",
       "    <tr>\n",
       "      <th>vote</th>\n",
       "      <td>0.005107</td>\n",
       "    </tr>\n",
       "    <tr>\n",
       "      <th>time</th>\n",
       "      <td>0.005160</td>\n",
       "    </tr>\n",
       "    <tr>\n",
       "      <th>democratic</th>\n",
       "      <td>0.004123</td>\n",
       "    </tr>\n",
       "    <tr>\n",
       "      <th>want</th>\n",
       "      <td>0.004073</td>\n",
       "    </tr>\n",
       "    <tr>\n",
       "      <th>ve</th>\n",
       "      <td>0.004096</td>\n",
       "    </tr>\n",
       "    <tr>\n",
       "      <th>hillary</th>\n",
       "      <td>0.004117</td>\n",
       "    </tr>\n",
       "    <tr>\n",
       "      <th>love</th>\n",
       "      <td>0.003557</td>\n",
       "    </tr>\n",
       "    <tr>\n",
       "      <th>day</th>\n",
       "      <td>0.003718</td>\n",
       "    </tr>\n",
       "    <tr>\n",
       "      <th>thing</th>\n",
       "      <td>0.003781</td>\n",
       "    </tr>\n",
       "    <tr>\n",
       "      <th>party</th>\n",
       "      <td>0.003912</td>\n",
       "    </tr>\n",
       "    <tr>\n",
       "      <th>happy</th>\n",
       "      <td>0.003071</td>\n",
       "    </tr>\n",
       "  </tbody>\n",
       "</table>\n",
       "</div>"
      ],
      "text/plain": [
       "            Importance\n",
       "Top Words             \n",
       "trump         0.016914\n",
       "election      0.007751\n",
       "just          0.008066\n",
       "feel          0.005617\n",
       "clinton       0.006313\n",
       "friend        0.005776\n",
       "candidate     0.006831\n",
       "republican    0.005013\n",
       "president     0.005561\n",
       "really        0.005231\n",
       "know          0.005241\n",
       "political     0.004487\n",
       "don           0.005067\n",
       "state         0.005281\n",
       "vote          0.005107\n",
       "time          0.005160\n",
       "democratic    0.004123\n",
       "want          0.004073\n",
       "ve            0.004096\n",
       "hillary       0.004117\n",
       "love          0.003557\n",
       "day           0.003718\n",
       "thing         0.003781\n",
       "party         0.003912\n",
       "happy         0.003071"
      ]
     },
     "execution_count": 109,
     "metadata": {},
     "output_type": "execute_result"
    }
   ],
   "source": [
    "feature_df"
   ]
  },
  {
   "cell_type": "code",
   "execution_count": 148,
   "metadata": {
    "ExecuteTime": {
     "end_time": "2021-02-01T05:57:28.508964Z",
     "start_time": "2021-02-01T05:57:28.129648Z"
    }
   },
   "outputs": [
    {
     "data": {
      "text/plain": [
       "Text(0.5, 0, 'How Informative the Feature is for Model')"
      ]
     },
     "execution_count": 148,
     "metadata": {},
     "output_type": "execute_result"
    },
    {
     "data": {
      "image/png": "[encoded data removed]",
      "text/plain": [
       "<Figure size 720x720 with 1 Axes>"
      ]
     },
     "metadata": {
      "needs_background": "light"
     },
     "output_type": "display_data"
    }
   ],
   "source": [
    "plt.figure(figsize=(10,10))\n",
    "plt.barh(feature_df.index, feature_df['Importance'], color='lightgreen')\n",
    "plt.title('Most Important words for Random Forest Classification')\n",
    "plt.xlabel('How Informative the Feature is for Model');"
   ]
  },
  {
   "cell_type": "markdown",
   "metadata": {},
   "source": [
    "### Analysis\n",
    "The Important words are a mixture of words important to classify political discussion and casual conversations. The Importance score tells us how informative each word is when classifying with a random forest. \n",
    "\n",
    "While there is a mixture of important words, the political discussion words are more well represented in most informative words. \n"
   ]
  },
  {
   "cell_type": "code",
   "execution_count": null,
   "metadata": {},
   "outputs": [],
   "source": []
  },
  {
   "cell_type": "markdown",
   "metadata": {},
   "source": [
    "## Random Forest Model 2 - How Leaky is my Data?\n",
    "\n",
    "In this next Random Forest model I am evaluating how leaky my model is due to the inclusion of the words \"politics\", \"political\", and \"politic\" in my dataset. My hypothesis is that removing these words from my wordban will make my model slightly less accurate because they are so indicative of being in the PoliticalDiscussions subreddit. However, I do not think removing these words will have a massive effect on the accuracy of my model due to the large signal generated by a slew of other words in PoliticalDiscussions."
   ]
  },
  {
   "cell_type": "code",
   "execution_count": 89,
   "metadata": {
    "ExecuteTime": {
     "end_time": "2021-02-01T03:39:48.920128Z",
     "start_time": "2021-02-01T03:39:48.406073Z"
    }
   },
   "outputs": [],
   "source": [
    "df_2 = pd.read_csv('./Data/casual_political_2.csv')\n",
    "\n",
    "X_2 = df_2['lemma_totaltext']\n",
    "y_2 = df_2['binary_sub']\n",
    "X_2_train, X_2_test, y_2_train, y_2_test = train_test_split(X_2, y_2, test_size=0.2, random_state=16)"
   ]
  },
  {
   "cell_type": "code",
   "execution_count": 90,
   "metadata": {
    "ExecuteTime": {
     "end_time": "2021-02-01T03:55:50.409929Z",
     "start_time": "2021-02-01T03:39:48.922455Z"
    }
   },
   "outputs": [
    {
     "name": "stdout",
     "output_type": "stream",
     "text": [
      "Fitting 5 folds for each of 64 candidates, totalling 320 fits\n"
     ]
    },
    {
     "name": "stderr",
     "output_type": "stream",
     "text": [
      "[Parallel(n_jobs=-1)]: Using backend LokyBackend with 4 concurrent workers.\n",
      "[Parallel(n_jobs=-1)]: Done  42 tasks      | elapsed:  4.0min\n",
      "[Parallel(n_jobs=-1)]: Done 192 tasks      | elapsed: 10.2min\n",
      "[Parallel(n_jobs=-1)]: Done 320 out of 320 | elapsed: 15.7min finished\n"
     ]
    },
    {
     "data": {
      "text/plain": [
       "GridSearchCV(cv=5,\n",
       "             estimator=Pipeline(steps=[('tvec',\n",
       "                                        TfidfVectorizer(stop_words='english')),\n",
       "                                       ('rf',\n",
       "                                        RandomForestClassifier(random_state=16))]),\n",
       "             n_jobs=-1,\n",
       "             param_grid={'rf__max_depth': [None, 5, 50, 100],\n",
       "                         'rf__max_features': ['auto', 'log2', 10, 50],\n",
       "                         'rf__n_estimators': [75, 100, 175, 250]},\n",
       "             scoring='accuracy', verbose=1)"
      ]
     },
     "execution_count": 90,
     "metadata": {},
     "output_type": "execute_result"
    }
   ],
   "source": [
    "grid_2 = GridSearchCV(pipe, params, cv = 5,\n",
    "                    scoring = 'accuracy', verbose = 1, n_jobs = -1)\n",
    "\n",
    "grid_2.fit(X_2_train, y_2_train);"
   ]
  },
  {
   "cell_type": "code",
   "execution_count": 91,
   "metadata": {
    "ExecuteTime": {
     "end_time": "2021-02-01T03:55:54.519995Z",
     "start_time": "2021-02-01T03:55:50.419369Z"
    }
   },
   "outputs": [
    {
     "data": {
      "text/plain": [
       "1.0"
      ]
     },
     "execution_count": 91,
     "metadata": {},
     "output_type": "execute_result"
    }
   ],
   "source": [
    "grid_2.score(X_2_train, y_2_train)"
   ]
  },
  {
   "cell_type": "code",
   "execution_count": 92,
   "metadata": {
    "ExecuteTime": {
     "end_time": "2021-02-01T03:55:55.633830Z",
     "start_time": "2021-02-01T03:55:54.523573Z"
    }
   },
   "outputs": [
    {
     "data": {
      "text/plain": [
       "0.9882851445663011"
      ]
     },
     "execution_count": 92,
     "metadata": {},
     "output_type": "execute_result"
    }
   ],
   "source": [
    "grid_2.score(X_2_test, y_2_test)"
   ]
  },
  {
   "cell_type": "markdown",
   "metadata": {},
   "source": [
    "My hypothesis was correct! Removing those words did not have a significant impact on my testing score. Therefore, I will use my first Random Forest because it has a higher testing accuracy and is not leaking too much due to the inclusion of \"politic\", \"politics\", and \"political\"."
   ]
  },
  {
   "cell_type": "code",
   "execution_count": 158,
   "metadata": {
    "ExecuteTime": {
     "end_time": "2021-02-01T06:10:15.357509Z",
     "start_time": "2021-02-01T06:10:14.964625Z"
    }
   },
   "outputs": [],
   "source": [
    "#forest.fit(X, y)\n",
    "importances_2 = grid_2.best_estimator_.named_steps['rf'].feature_importances_\n",
    "std_2 = np.std([tree.feature_importances_ for tree in grid_2.best_estimator_.named_steps['rf']],\n",
    "             axis=0)\n",
    "indices_2 = np.argsort(std_2)[::-1]\n",
    "vocab_2 = grid_2.best_estimator_.named_steps['tvec'].get_feature_names()\n",
    "\n",
    "# Creating feature_df \n",
    "feature_df_2 = pd.DataFrame({'Top Words', 'Importance'}).set_index(0)\n",
    "\n",
    "# Iterating over indices and creating DataFrame with 25 most important words\n",
    "i = 0\n",
    "while i < 25: \n",
    "    feature_df_2.loc[i, 'Top Words'] = vocab_2[indices_2[i]]\n",
    "    feature_df_2.loc[i, 'Importance'] = importances_2[indices_2[i]]\n",
    "    i+=1\n",
    "    "
   ]
  },
  {
   "cell_type": "code",
   "execution_count": 159,
   "metadata": {
    "ExecuteTime": {
     "end_time": "2021-02-01T06:10:16.421235Z",
     "start_time": "2021-02-01T06:10:16.409119Z"
    }
   },
   "outputs": [
    {
     "data": {
      "text/html": [
       "<div>\n",
       "<style scoped>\n",
       "    .dataframe tbody tr th:only-of-type {\n",
       "        vertical-align: middle;\n",
       "    }\n",
       "\n",
       "    .dataframe tbody tr th {\n",
       "        vertical-align: top;\n",
       "    }\n",
       "\n",
       "    .dataframe thead th {\n",
       "        text-align: right;\n",
       "    }\n",
       "</style>\n",
       "<table border=\"1\" class=\"dataframe\">\n",
       "  <thead>\n",
       "    <tr style=\"text-align: right;\">\n",
       "      <th></th>\n",
       "      <th>Importance</th>\n",
       "    </tr>\n",
       "    <tr>\n",
       "      <th>Top Words</th>\n",
       "      <th></th>\n",
       "    </tr>\n",
       "  </thead>\n",
       "  <tbody>\n",
       "    <tr>\n",
       "      <th>trump</th>\n",
       "      <td>0.015893</td>\n",
       "    </tr>\n",
       "    <tr>\n",
       "      <th>election</th>\n",
       "      <td>0.009292</td>\n",
       "    </tr>\n",
       "    <tr>\n",
       "      <th>feel</th>\n",
       "      <td>0.007409</td>\n",
       "    </tr>\n",
       "    <tr>\n",
       "      <th>just</th>\n",
       "      <td>0.007403</td>\n",
       "    </tr>\n",
       "    <tr>\n",
       "      <th>vote</th>\n",
       "      <td>0.006286</td>\n",
       "    </tr>\n",
       "    <tr>\n",
       "      <th>clinton</th>\n",
       "      <td>0.006814</td>\n",
       "    </tr>\n",
       "    <tr>\n",
       "      <th>president</th>\n",
       "      <td>0.005553</td>\n",
       "    </tr>\n",
       "    <tr>\n",
       "      <th>life</th>\n",
       "      <td>0.005313</td>\n",
       "    </tr>\n",
       "    <tr>\n",
       "      <th>campaign</th>\n",
       "      <td>0.005155</td>\n",
       "    </tr>\n",
       "    <tr>\n",
       "      <th>really</th>\n",
       "      <td>0.005119</td>\n",
       "    </tr>\n",
       "    <tr>\n",
       "      <th>want</th>\n",
       "      <td>0.005368</td>\n",
       "    </tr>\n",
       "    <tr>\n",
       "      <th>party</th>\n",
       "      <td>0.005269</td>\n",
       "    </tr>\n",
       "    <tr>\n",
       "      <th>know</th>\n",
       "      <td>0.005234</td>\n",
       "    </tr>\n",
       "    <tr>\n",
       "      <th>republican</th>\n",
       "      <td>0.005112</td>\n",
       "    </tr>\n",
       "    <tr>\n",
       "      <th>love</th>\n",
       "      <td>0.004241</td>\n",
       "    </tr>\n",
       "    <tr>\n",
       "      <th>state</th>\n",
       "      <td>0.004800</td>\n",
       "    </tr>\n",
       "    <tr>\n",
       "      <th>republicans</th>\n",
       "      <td>0.003748</td>\n",
       "    </tr>\n",
       "    <tr>\n",
       "      <th>thing</th>\n",
       "      <td>0.004001</td>\n",
       "    </tr>\n",
       "    <tr>\n",
       "      <th>friend</th>\n",
       "      <td>0.003588</td>\n",
       "    </tr>\n",
       "    <tr>\n",
       "      <th>hillary</th>\n",
       "      <td>0.004082</td>\n",
       "    </tr>\n",
       "    <tr>\n",
       "      <th>candidate</th>\n",
       "      <td>0.004262</td>\n",
       "    </tr>\n",
       "    <tr>\n",
       "      <th>don</th>\n",
       "      <td>0.004231</td>\n",
       "    </tr>\n",
       "    <tr>\n",
       "      <th>ve</th>\n",
       "      <td>0.003760</td>\n",
       "    </tr>\n",
       "    <tr>\n",
       "      <th>sanders</th>\n",
       "      <td>0.003985</td>\n",
       "    </tr>\n",
       "    <tr>\n",
       "      <th>democratic</th>\n",
       "      <td>0.003467</td>\n",
       "    </tr>\n",
       "  </tbody>\n",
       "</table>\n",
       "</div>"
      ],
      "text/plain": [
       "             Importance\n",
       "Top Words              \n",
       "trump          0.015893\n",
       "election       0.009292\n",
       "feel           0.007409\n",
       "just           0.007403\n",
       "vote           0.006286\n",
       "clinton        0.006814\n",
       "president      0.005553\n",
       "life           0.005313\n",
       "campaign       0.005155\n",
       "really         0.005119\n",
       "want           0.005368\n",
       "party          0.005269\n",
       "know           0.005234\n",
       "republican     0.005112\n",
       "love           0.004241\n",
       "state          0.004800\n",
       "republicans    0.003748\n",
       "thing          0.004001\n",
       "friend         0.003588\n",
       "hillary        0.004082\n",
       "candidate      0.004262\n",
       "don            0.004231\n",
       "ve             0.003760\n",
       "sanders        0.003985\n",
       "democratic     0.003467"
      ]
     },
     "execution_count": 159,
     "metadata": {},
     "output_type": "execute_result"
    }
   ],
   "source": [
    "feature_df_2 = feature_df_2.set_index('Top Words').dropna()\n",
    "feature_df_2"
   ]
  },
  {
   "cell_type": "code",
   "execution_count": 161,
   "metadata": {
    "ExecuteTime": {
     "end_time": "2021-02-01T06:11:19.386948Z",
     "start_time": "2021-02-01T06:11:19.018670Z"
    }
   },
   "outputs": [
    {
     "data": {
      "text/plain": [
       "Text(0.5, 0, 'How Informative the Feature is for Model')"
      ]
     },
     "execution_count": 161,
     "metadata": {},
     "output_type": "execute_result"
    },
    {
     "data": {
      "image/png": "[encoded data removed]",
      "text/plain": [
       "<Figure size 720x720 with 1 Axes>"
      ]
     },
     "metadata": {
      "needs_background": "light"
     },
     "output_type": "display_data"
    }
   ],
   "source": [
    "plt.figure(figsize=(10,10))\n",
    "plt.barh(feature_df_2.index, feature_df_2['Importance'], color='grey')\n",
    "plt.title('Most Important words for Random Forest Classification')\n",
    "plt.xlabel('How Informative the Feature is for Model', fontsize=12)"
   ]
  },
  {
   "cell_type": "markdown",
   "metadata": {
    "ExecuteTime": {
     "end_time": "2021-02-01T06:13:15.014335Z",
     "start_time": "2021-02-01T06:13:14.986733Z"
    }
   },
   "source": [
    "#### Classification Metrics\n",
    "\n",
    "In order to evaluate the model, I need to be able to evaluate how many posts were classified correctly, and how many posts were classified incorrectly. In order to do so, I can use classification metrics that illuminate how many outcomes were true positives (correctly predicted political text), false positives (incorrectly predicted political text), false negatives (icorrectly predicted casual text), and true negatives (correctly predicted casual text). "
   ]
  },
  {
   "cell_type": "code",
   "execution_count": 175,
   "metadata": {
    "ExecuteTime": {
     "end_time": "2021-02-01T06:18:11.693520Z",
     "start_time": "2021-02-01T06:18:10.225656Z"
    }
   },
   "outputs": [],
   "source": [
    "# y predictions using grid search variable created earlier\n",
    "y_hat = grid.predict(X_test)"
   ]
  },
  {
   "cell_type": "code",
   "execution_count": 186,
   "metadata": {
    "ExecuteTime": {
     "end_time": "2021-02-01T08:13:45.380920Z",
     "start_time": "2021-02-01T08:13:43.810611Z"
    }
   },
   "outputs": [
    {
     "data": {
      "text/plain": [
       "<Figure size 720x720 with 0 Axes>"
      ]
     },
     "metadata": {},
     "output_type": "display_data"
    },
    {
     "data": {
      "image/png": "[encoded data removed]",
      "text/plain": [
       "<Figure size 432x288 with 2 Axes>"
      ]
     },
     "metadata": {
      "needs_background": "light"
     },
     "output_type": "display_data"
    }
   ],
   "source": [
    "# Displaying sample confusion matrix\n",
    "#display(cm_def)\n",
    "\n",
    "# Displaying actual confusion matrix \n",
    "plt.figure(figsize=(10,10))\n",
    "metrics.plot_confusion_matrix(grid, X_test, y_test, cmap='Accent', \n",
    "                      values_format='d', display_labels=['CasualConversation', \n",
    "                                                         'PoliticalDiscussion']);\n",
    "plt.savefig('./Figures/confusion_matrix.png')"
   ]
  },
  {
   "cell_type": "markdown",
   "metadata": {},
   "source": [
    "My model predicted:\n",
    "\n",
    "* 1993 True Positives (Correctly predicted r/PoliticalDiscussion)\n",
    "* 1981 True Negatives (Correctly predicted r/CasualConversation)\n",
    "* 26 False Negatives (Incorrectly predicted r/CasualConversation)\n",
    "* 12 False Positives (Incorrectly predicted r/PoliticalDiscussion)\n",
    "\n",
    "Overall, these are fantastic ratios and indicate that I am on the right path for differentiating between the casual and political discussions."
   ]
  },
  {
   "cell_type": "code",
   "execution_count": 177,
   "metadata": {
    "ExecuteTime": {
     "end_time": "2021-02-01T06:18:16.155295Z",
     "start_time": "2021-02-01T06:18:14.821082Z"
    }
   },
   "outputs": [
    {
     "data": {
      "text/plain": [
       "<Figure size 720x720 with 0 Axes>"
      ]
     },
     "metadata": {},
     "output_type": "display_data"
    },
    {
     "data": {
      "image/png": "[encoded data removed]",
      "text/plain": [
       "<Figure size 432x288 with 2 Axes>"
      ]
     },
     "metadata": {
      "needs_background": "light"
     },
     "output_type": "display_data"
    }
   ],
   "source": [
    "# Removing \"politic\" words from dataframe\n",
    "plt.figure(figsize=(10,10))\n",
    "metrics.plot_confusion_matrix(grid_2, X_2_test, y_2_test, cmap='Accent', \n",
    "                      values_format='d', display_labels=['CasualConversation', \n",
    "                                                         'PoliticalDiscussion']);"
   ]
  },
  {
   "cell_type": "markdown",
   "metadata": {},
   "source": [
    "This model is still fantastic for production use. It would be interesting to determine how the two differed on actual social media posts. "
   ]
  },
  {
   "cell_type": "code",
   "execution_count": 178,
   "metadata": {
    "ExecuteTime": {
     "end_time": "2021-02-01T06:18:17.609809Z",
     "start_time": "2021-02-01T06:18:16.158021Z"
    }
   },
   "outputs": [
    {
     "data": {
      "image/png": "[encoded data removed]",
      "text/plain": [
       "<Figure size 432x288 with 1 Axes>"
      ]
     },
     "metadata": {
      "needs_background": "light"
     },
     "output_type": "display_data"
    }
   ],
   "source": [
    "# ROC curve\n",
    "metrics.plot_roc_curve(grid, X_test, y_test)\n",
    "# add worst case scenario line\n",
    "plt.plot([0, 1], [0, 1]);"
   ]
  },
  {
   "cell_type": "markdown",
   "metadata": {},
   "source": [
    "#### Analysis\n",
    "My ROC curve shows that the CasualConversation and PoliticalDiscussion classes are perfectly separated, indicating my model is as good as it can get. This was also seen by the high degree of separation in the log(odds) of the political and casual words. "
   ]
  },
  {
   "cell_type": "code",
   "execution_count": 179,
   "metadata": {
    "ExecuteTime": {
     "end_time": "2021-02-01T06:18:17.622754Z",
     "start_time": "2021-02-01T06:18:17.612281Z"
    }
   },
   "outputs": [
    {
     "data": {
      "text/plain": [
       "0.9905301519494736"
      ]
     },
     "execution_count": 179,
     "metadata": {},
     "output_type": "execute_result"
    }
   ],
   "source": [
    "# ROC AUC score nearly 1\n",
    "metrics.roc_auc_score(y_test, y_hat)"
   ]
  },
  {
   "cell_type": "code",
   "execution_count": 180,
   "metadata": {
    "ExecuteTime": {
     "end_time": "2021-02-01T06:19:17.304239Z",
     "start_time": "2021-02-01T06:19:17.285710Z"
    }
   },
   "outputs": [],
   "source": [
    "accuracy = metrics.accuracy_score(y_test, y_hat)\n",
    "\n",
    "#specificity = true negative/(true neagtive +false positive)\n",
    "specificity = 1993/(1993+12) \n",
    "\n",
    "sensitivity =  metrics.recall_score(y_test, y_hat)\n",
    "\n",
    "precision = metrics.precision_score(y_test, y_hat)"
   ]
  },
  {
   "cell_type": "markdown",
   "metadata": {
    "ExecuteTime": {
     "end_time": "2021-02-01T06:20:26.118785Z",
     "start_time": "2021-02-01T06:20:26.110409Z"
    }
   },
   "source": [
    "* Accuracy: What percentage of political and casual texts did I correctly predict? \n",
    "* Sensitivity: Among political texts, what percentage of texts did I correctly predict?\n",
    "* Specificity: Among casual texts, what percentage of texts did I correctly predict? \n",
    "* Precision: Among those I predicted to be political texts, what percentage of texts did I correctly predict?"
   ]
  },
  {
   "cell_type": "code",
   "execution_count": 181,
   "metadata": {
    "ExecuteTime": {
     "end_time": "2021-02-01T06:19:31.172164Z",
     "start_time": "2021-02-01T06:19:31.165505Z"
    }
   },
   "outputs": [
    {
     "name": "stdout",
     "output_type": "stream",
     "text": [
      "My accuracy is:  0.99\n",
      "My specificity is:  0.99\n",
      "My sensitivity is:  0.99\n",
      "My precision is:  0.99\n"
     ]
    }
   ],
   "source": [
    "print('My accuracy is: ', round(accuracy,2))\n",
    "print('My specificity is: ', round(specificity, 2))\n",
    "print('My sensitivity is: ', round(sensitivity,2))\n",
    "print('My precision is: ', round(precision,2))"
   ]
  },
  {
   "cell_type": "code",
   "execution_count": 182,
   "metadata": {
    "ExecuteTime": {
     "end_time": "2021-02-01T06:19:43.676827Z",
     "start_time": "2021-02-01T06:19:43.659446Z"
    }
   },
   "outputs": [
    {
     "name": "stdout",
     "output_type": "stream",
     "text": [
      "              precision    recall  f1-score   support\n",
      "\n",
      "           0       0.99      0.99      0.99      2005\n",
      "           1       0.99      0.99      0.99      2007\n",
      "\n",
      "    accuracy                           0.99      4012\n",
      "   macro avg       0.99      0.99      0.99      4012\n",
      "weighted avg       0.99      0.99      0.99      4012\n",
      "\n"
     ]
    }
   ],
   "source": [
    "# Creating classification report \n",
    "print(metrics.classification_report(y_test, y_hat, labels=[0,1]))"
   ]
  },
  {
   "cell_type": "markdown",
   "metadata": {},
   "source": [
    "Model Summary Table:\n",
    "\n",
    "|Model| Train Accuracy| Test Accuracy| AUC ROC| True Positive| True Negative| False Positive| False Negative|\n",
    "|---|---|---|---|---|---|---|---|\n",
    "|Logistic Regression| 1.0|0.989|0.989|1983|1984|21|24|\n",
    "|Random Forest|1.0|0.990|0.990|1993|1981|12|26|"
   ]
  },
  {
   "cell_type": "markdown",
   "metadata": {},
   "source": [
    "# Please Continue to Notebook 3C"
   ]
  }
 ],
 "metadata": {
  "kernelspec": {
   "display_name": "Python 3",
   "language": "python",
   "name": "python3"
  },
  "language_info": {
   "codemirror_mode": {
    "name": "ipython",
    "version": 3
   },
   "file_extension": ".py",
   "mimetype": "text/x-python",
   "name": "python",
   "nbconvert_exporter": "python",
   "pygments_lexer": "ipython3",
   "version": "3.8.5"
  }
 },
 "nbformat": 4,
 "nbformat_minor": 4
}
