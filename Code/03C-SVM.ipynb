{
 "cells": [
  {
   "cell_type": "markdown",
   "metadata": {},
   "source": [
    "# Support Vector Machine\n",
    "\n",
    "Due to the high success of my logistic regression, I wanted to analyze whether a Support Vector Machine (SVM) would slightly improve the classification accuracy of my model. \n",
    "\n",
    "A support vector machine works by finding the maximum margin hyperplane between the two classes. The SVM can create the maximum margin hyperplane in many different dimensions to best find the threshold boundary.  "
   ]
  },
  {
   "cell_type": "code",
   "execution_count": 1,
   "metadata": {
    "ExecuteTime": {
     "end_time": "2021-01-31T06:22:29.229232Z",
     "start_time": "2021-01-31T06:22:26.654713Z"
    }
   },
   "outputs": [],
   "source": [
    "import pandas as pd\n",
    "\n",
    "from sklearn.model_selection import train_test_split, GridSearchCV\n",
    "#from sklearn.model_selection import  GridSearchCV\n",
    "from sklearn.linear_model import LogisticRegression\n",
    "import numpy as np\n",
    "import matplotlib.pyplot as plt\n",
    "from sklearn import svm, linear_model\n",
    "from sklearn.model_selection import cross_val_score\n",
    "from sklearn.pipeline import Pipeline\n",
    "from sklearn.feature_extraction.text import CountVectorizer, TfidfVectorizer"
   ]
  },
  {
   "cell_type": "code",
   "execution_count": 2,
   "metadata": {
    "ExecuteTime": {
     "end_time": "2021-01-31T06:22:29.838141Z",
     "start_time": "2021-01-31T06:22:29.232048Z"
    }
   },
   "outputs": [],
   "source": [
    "# Read in DataFrame\n",
    "df = pd.read_csv('../Data/casual_political.csv')"
   ]
  },
  {
   "cell_type": "code",
   "execution_count": 3,
   "metadata": {
    "ExecuteTime": {
     "end_time": "2021-01-31T06:22:29.850468Z",
     "start_time": "2021-01-31T06:22:29.845924Z"
    }
   },
   "outputs": [],
   "source": [
    "# Set predictor and resulting variables\n",
    "X = df['lemma_totaltext']\n",
    "y = df['binary_sub']"
   ]
  },
  {
   "cell_type": "code",
   "execution_count": 4,
   "metadata": {
    "ExecuteTime": {
     "end_time": "2021-01-31T06:22:29.860886Z",
     "start_time": "2021-01-31T06:22:29.852677Z"
    }
   },
   "outputs": [],
   "source": [
    "# Train test SPlit using same random_state\n",
    "X_train, X_test, y_train, y_test = train_test_split(X, y, test_size=0.2, random_state=16)"
   ]
  },
  {
   "cell_type": "code",
   "execution_count": 5,
   "metadata": {
    "ExecuteTime": {
     "end_time": "2021-01-31T06:22:29.870419Z",
     "start_time": "2021-01-31T06:22:29.864430Z"
    }
   },
   "outputs": [],
   "source": [
    "# Creating scaffolding for hyperparameter gridsearch pipeline\n",
    "pipe = Pipeline([\n",
    "    \n",
    "    ('tvec', TfidfVectorizer(analyzer='word', stop_words='english')),\n",
    "    ('svc', svm.SVC())\n",
    "    \n",
    "])"
   ]
  },
  {
   "cell_type": "code",
   "execution_count": 9,
   "metadata": {
    "ExecuteTime": {
     "end_time": "2021-01-31T13:31:29.365899Z",
     "start_time": "2021-01-31T06:22:29.920741Z"
    }
   },
   "outputs": [
    {
     "name": "stdout",
     "output_type": "stream",
     "text": [
      "Fitting 3 folds for each of 400 candidates, totalling 1200 fits\n"
     ]
    },
    {
     "name": "stderr",
     "output_type": "stream",
     "text": [
      "[Parallel(n_jobs=-1)]: Using backend LokyBackend with 4 concurrent workers.\n",
      "[Parallel(n_jobs=-1)]: Done  42 tasks      | elapsed: 17.4min\n",
      "[Parallel(n_jobs=-1)]: Done 192 tasks      | elapsed: 79.0min\n",
      "[Parallel(n_jobs=-1)]: Done 442 tasks      | elapsed: 175.8min\n",
      "[Parallel(n_jobs=-1)]: Done 792 tasks      | elapsed: 289.5min\n",
      "[Parallel(n_jobs=-1)]: Done 1200 out of 1200 | elapsed: 428.5min finished\n"
     ]
    },
    {
     "data": {
      "text/plain": [
       "GridSearchCV(cv=3,\n",
       "             estimator=Pipeline(steps=[('tvec',\n",
       "                                        TfidfVectorizer(stop_words='english')),\n",
       "                                       ('svc', SVC())]),\n",
       "             n_jobs=-1,\n",
       "             param_grid={'svc__C': array([1.00000000e-03, 3.59381366e-03, 1.29154967e-02, 4.64158883e-02,\n",
       "       1.66810054e-01, 5.99484250e-01, 2.15443469e+00, 7.74263683e+00,\n",
       "       2.78255940e+01, 1.00000000e+02]),\n",
       "                         'svc__gamma': array([1.00000000e-05, 5.99484250e-05, 3.59381366e-04, 2.15443469e-03,\n",
       "       1.29154967e-02, 7.74263683e-02, 4.64158883e-01, 2.78255940e+00,\n",
       "       1.66810054e+01, 1.00000000e+02]),\n",
       "                         'svc__kernel': ['rbf', 'sigmoid', 'linear', 'poly']},\n",
       "             scoring='accuracy', verbose=1)"
      ]
     },
     "execution_count": 9,
     "metadata": {},
     "output_type": "execute_result"
    }
   ],
   "source": [
    "# Creating parameters to gridsearch over \n",
    "\n",
    "gamma_range = np.logspace(-5, 2, 10)\n",
    "C_range = np.logspace(-3, 2, 10)\n",
    "kernel_range = ['rbf', 'sigmoid', 'linear', 'poly']\n",
    "\n",
    "param_grid = {'svc__gamma': gamma_range,\n",
    "                  'svc__C': C_range,\n",
    "                  'svc__kernel': kernel_range\n",
    "             }\n",
    "\n",
    "grid = GridSearchCV(pipe, param_grid, cv = 3,\n",
    "                    scoring = 'accuracy', verbose = 1, n_jobs = -1)\n",
    "\n",
    "# Fitting training data for SVM\n",
    "grid.fit(X_train, y_train)"
   ]
  },
  {
   "cell_type": "code",
   "execution_count": 10,
   "metadata": {
    "ExecuteTime": {
     "end_time": "2021-01-31T13:31:29.385072Z",
     "start_time": "2021-01-31T13:31:29.374480Z"
    }
   },
   "outputs": [
    {
     "name": "stdout",
     "output_type": "stream",
     "text": [
      "{'svc__C': 7.742636826811277, 'svc__gamma': 0.4641588833612782, 'svc__kernel': 'rbf'}\n",
      "0.9896547347663621\n"
     ]
    }
   ],
   "source": [
    "print(grid.best_params_)\n",
    "print(grid.best_score_)"
   ]
  },
  {
   "cell_type": "code",
   "execution_count": 12,
   "metadata": {
    "ExecuteTime": {
     "end_time": "2021-01-31T14:23:47.229029Z",
     "start_time": "2021-01-31T14:23:42.126655Z"
    }
   },
   "outputs": [
    {
     "data": {
      "text/plain": [
       "0.9877866400797607"
      ]
     },
     "execution_count": 12,
     "metadata": {},
     "output_type": "execute_result"
    }
   ],
   "source": [
    "grid.score(X_test, y_test)"
   ]
  },
  {
   "cell_type": "markdown",
   "metadata": {},
   "source": [
    "This model achieved the same accuracy as the random forest and logistic regression, but over a significantly longer time period. Therefore it is not even worth analyzing the best parameters. \n",
    "\n",
    "Had there been less data, the SVM might have been able to be more accurate than the other models, however with sufficient data SVM is not worth the time hassle. "
   ]
  }
 ],
 "metadata": {
  "kernelspec": {
   "display_name": "Python 3",
   "language": "python",
   "name": "python3"
  },
  "language_info": {
   "codemirror_mode": {
    "name": "ipython",
    "version": 3
   },
   "file_extension": ".py",
   "mimetype": "text/x-python",
   "name": "python",
   "nbconvert_exporter": "python",
   "pygments_lexer": "ipython3",
   "version": "3.8.5"
  }
 },
 "nbformat": 4,
 "nbformat_minor": 4
}
