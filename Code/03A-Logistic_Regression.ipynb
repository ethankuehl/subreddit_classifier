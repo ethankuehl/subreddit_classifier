{
 "cells": [
  {
   "cell_type": "markdown",
   "metadata": {},
   "source": [
    "# Logistic Regression\n",
    "\n",
    "Logistic regression is the most common binary classification algorithm. It predicts continuous values between 0 and 1 to classify something as 0 or 1. The regression predicts a value based on features and will ascribe the value to a class based on whether the value falls above or below a pre-set threshold.  "
   ]
  },
  {
   "cell_type": "code",
   "execution_count": 12,
   "metadata": {
    "ExecuteTime": {
     "end_time": "2021-02-03T13:37:13.354340Z",
     "start_time": "2021-02-03T13:37:13.348570Z"
    }
   },
   "outputs": [],
   "source": [
    "import pandas as pd\n",
    "import numpy as np\n",
    "import re\n",
    "import warnings\n",
    "import matplotlib.pyplot as plt\n",
    "import math\n",
    "from sklearn import metrics as metrics\n",
    "from collections import Counter\n",
    "from vaderSentiment.vaderSentiment import SentimentIntensityAnalyzer\n",
    "from sklearn.feature_extraction.text import CountVectorizer, TfidfVectorizer\n",
    "from nltk.stem import WordNetLemmatizer\n",
    "from nltk.tag import pos_tag\n",
    "from nltk.tokenize import WordPunctTokenizer\n",
    "from nltk.corpus import wordnet\n",
    "\n",
    "from sklearn.preprocessing import StandardScaler\n",
    "from sklearn.pipeline import Pipeline\n",
    "from sklearn.linear_model import LogisticRegression\n",
    "from sklearn.model_selection import train_test_split, cross_val_score, GridSearchCV\n",
    "from sklearn.metrics import confusion_matrix\n",
    "from sklearn.metrics import roc_auc_score"
   ]
  },
  {
   "cell_type": "code",
   "execution_count": 13,
   "metadata": {
    "ExecuteTime": {
     "end_time": "2021-02-03T13:37:13.833776Z",
     "start_time": "2021-02-03T13:37:13.357786Z"
    }
   },
   "outputs": [],
   "source": [
    "# Reading in dataframe\n",
    "df = pd.read_csv('../Data/casual_political.csv')"
   ]
  },
  {
   "cell_type": "code",
   "execution_count": 14,
   "metadata": {
    "ExecuteTime": {
     "end_time": "2021-02-03T13:37:13.906252Z",
     "start_time": "2021-02-03T13:37:13.850596Z"
    }
   },
   "outputs": [
    {
     "data": {
      "text/html": [
       "<div>\n",
       "<style scoped>\n",
       "    .dataframe tbody tr th:only-of-type {\n",
       "        vertical-align: middle;\n",
       "    }\n",
       "\n",
       "    .dataframe tbody tr th {\n",
       "        vertical-align: top;\n",
       "    }\n",
       "\n",
       "    .dataframe thead th {\n",
       "        text-align: right;\n",
       "    }\n",
       "</style>\n",
       "<table border=\"1\" class=\"dataframe\">\n",
       "  <thead>\n",
       "    <tr style=\"text-align: right;\">\n",
       "      <th></th>\n",
       "      <th>binary_sub</th>\n",
       "      <th>NN</th>\n",
       "      <th>NNP</th>\n",
       "      <th>VBG</th>\n",
       "      <th>PRP</th>\n",
       "      <th>VBP</th>\n",
       "      <th>TO</th>\n",
       "      <th>VB</th>\n",
       "      <th>IN</th>\n",
       "      <th>CC</th>\n",
       "      <th>...</th>\n",
       "      <th>DT</th>\n",
       "      <th>RB</th>\n",
       "      <th>RBR</th>\n",
       "      <th>PRP$</th>\n",
       "      <th>VBN</th>\n",
       "      <th>vader_negative</th>\n",
       "      <th>vader_positive</th>\n",
       "      <th>vader_neutral</th>\n",
       "      <th>vader_compound</th>\n",
       "      <th>lemma_totaltext</th>\n",
       "    </tr>\n",
       "  </thead>\n",
       "  <tbody>\n",
       "    <tr>\n",
       "      <th>0</th>\n",
       "      <td>1</td>\n",
       "      <td>0.172185</td>\n",
       "      <td>0.059603</td>\n",
       "      <td>0.033113</td>\n",
       "      <td>0.046358</td>\n",
       "      <td>0.052980</td>\n",
       "      <td>0.033113</td>\n",
       "      <td>0.066225</td>\n",
       "      <td>0.145695</td>\n",
       "      <td>0.039735</td>\n",
       "      <td>...</td>\n",
       "      <td>0.125828</td>\n",
       "      <td>0.039735</td>\n",
       "      <td>0.000000</td>\n",
       "      <td>0.000000</td>\n",
       "      <td>0.019868</td>\n",
       "      <td>0.070</td>\n",
       "      <td>0.127</td>\n",
       "      <td>0.802</td>\n",
       "      <td>0.9173</td>\n",
       "      <td>Could the Senate move for a motion of no confi...</td>\n",
       "    </tr>\n",
       "    <tr>\n",
       "      <th>1</th>\n",
       "      <td>1</td>\n",
       "      <td>0.107143</td>\n",
       "      <td>0.023810</td>\n",
       "      <td>0.000000</td>\n",
       "      <td>0.047619</td>\n",
       "      <td>0.047619</td>\n",
       "      <td>0.011905</td>\n",
       "      <td>0.059524</td>\n",
       "      <td>0.095238</td>\n",
       "      <td>0.047619</td>\n",
       "      <td>...</td>\n",
       "      <td>0.095238</td>\n",
       "      <td>0.071429</td>\n",
       "      <td>0.000000</td>\n",
       "      <td>0.000000</td>\n",
       "      <td>0.083333</td>\n",
       "      <td>0.206</td>\n",
       "      <td>0.073</td>\n",
       "      <td>0.721</td>\n",
       "      <td>-0.8732</td>\n",
       "      <td>Should verbal error by presidential candidate ...</td>\n",
       "    </tr>\n",
       "    <tr>\n",
       "      <th>2</th>\n",
       "      <td>0</td>\n",
       "      <td>0.131429</td>\n",
       "      <td>0.000000</td>\n",
       "      <td>0.034286</td>\n",
       "      <td>0.154286</td>\n",
       "      <td>0.057143</td>\n",
       "      <td>0.017143</td>\n",
       "      <td>0.034286</td>\n",
       "      <td>0.148571</td>\n",
       "      <td>0.051429</td>\n",
       "      <td>...</td>\n",
       "      <td>0.062857</td>\n",
       "      <td>0.051429</td>\n",
       "      <td>0.011429</td>\n",
       "      <td>0.028571</td>\n",
       "      <td>0.034286</td>\n",
       "      <td>0.141</td>\n",
       "      <td>0.083</td>\n",
       "      <td>0.777</td>\n",
       "      <td>-0.8438</td>\n",
       "      <td>I finally get bang today after a year of go ba...</td>\n",
       "    </tr>\n",
       "    <tr>\n",
       "      <th>3</th>\n",
       "      <td>0</td>\n",
       "      <td>0.202020</td>\n",
       "      <td>0.060606</td>\n",
       "      <td>0.030303</td>\n",
       "      <td>0.090909</td>\n",
       "      <td>0.020202</td>\n",
       "      <td>0.010101</td>\n",
       "      <td>0.030303</td>\n",
       "      <td>0.131313</td>\n",
       "      <td>0.040404</td>\n",
       "      <td>...</td>\n",
       "      <td>0.121212</td>\n",
       "      <td>0.070707</td>\n",
       "      <td>0.000000</td>\n",
       "      <td>0.000000</td>\n",
       "      <td>0.000000</td>\n",
       "      <td>0.113</td>\n",
       "      <td>0.059</td>\n",
       "      <td>0.827</td>\n",
       "      <td>-0.7461</td>\n",
       "      <td>Is it just me or do anyone else feel no differ...</td>\n",
       "    </tr>\n",
       "    <tr>\n",
       "      <th>4</th>\n",
       "      <td>1</td>\n",
       "      <td>0.131148</td>\n",
       "      <td>0.000000</td>\n",
       "      <td>0.032787</td>\n",
       "      <td>0.049180</td>\n",
       "      <td>0.065574</td>\n",
       "      <td>0.049180</td>\n",
       "      <td>0.065574</td>\n",
       "      <td>0.131148</td>\n",
       "      <td>0.049180</td>\n",
       "      <td>...</td>\n",
       "      <td>0.131148</td>\n",
       "      <td>0.032787</td>\n",
       "      <td>0.000000</td>\n",
       "      <td>0.016393</td>\n",
       "      <td>0.000000</td>\n",
       "      <td>0.126</td>\n",
       "      <td>0.168</td>\n",
       "      <td>0.707</td>\n",
       "      <td>0.4847</td>\n",
       "      <td>What be some issue both Democrats and Republic...</td>\n",
       "    </tr>\n",
       "  </tbody>\n",
       "</table>\n",
       "<p>5 rows × 22 columns</p>\n",
       "</div>"
      ],
      "text/plain": [
       "   binary_sub        NN       NNP       VBG       PRP       VBP        TO  \\\n",
       "0           1  0.172185  0.059603  0.033113  0.046358  0.052980  0.033113   \n",
       "1           1  0.107143  0.023810  0.000000  0.047619  0.047619  0.011905   \n",
       "2           0  0.131429  0.000000  0.034286  0.154286  0.057143  0.017143   \n",
       "3           0  0.202020  0.060606  0.030303  0.090909  0.020202  0.010101   \n",
       "4           1  0.131148  0.000000  0.032787  0.049180  0.065574  0.049180   \n",
       "\n",
       "         VB        IN        CC  ...        DT        RB       RBR      PRP$  \\\n",
       "0  0.066225  0.145695  0.039735  ...  0.125828  0.039735  0.000000  0.000000   \n",
       "1  0.059524  0.095238  0.047619  ...  0.095238  0.071429  0.000000  0.000000   \n",
       "2  0.034286  0.148571  0.051429  ...  0.062857  0.051429  0.011429  0.028571   \n",
       "3  0.030303  0.131313  0.040404  ...  0.121212  0.070707  0.000000  0.000000   \n",
       "4  0.065574  0.131148  0.049180  ...  0.131148  0.032787  0.000000  0.016393   \n",
       "\n",
       "        VBN  vader_negative  vader_positive  vader_neutral  vader_compound  \\\n",
       "0  0.019868           0.070           0.127          0.802          0.9173   \n",
       "1  0.083333           0.206           0.073          0.721         -0.8732   \n",
       "2  0.034286           0.141           0.083          0.777         -0.8438   \n",
       "3  0.000000           0.113           0.059          0.827         -0.7461   \n",
       "4  0.000000           0.126           0.168          0.707          0.4847   \n",
       "\n",
       "                                     lemma_totaltext  \n",
       "0  Could the Senate move for a motion of no confi...  \n",
       "1  Should verbal error by presidential candidate ...  \n",
       "2  I finally get bang today after a year of go ba...  \n",
       "3  Is it just me or do anyone else feel no differ...  \n",
       "4  What be some issue both Democrats and Republic...  \n",
       "\n",
       "[5 rows x 22 columns]"
      ]
     },
     "execution_count": 14,
     "metadata": {},
     "output_type": "execute_result"
    }
   ],
   "source": [
    "df.head()"
   ]
  },
  {
   "cell_type": "markdown",
   "metadata": {},
   "source": [
    "## Baseline Model\n",
    "\n",
    "The most basic baseline model is the probability of predicting the major class. As we found out in the EDA section, the major class is CasualConversations because there are more posts from that subreddit than the PoliticalDiscussion subreddit"
   ]
  },
  {
   "cell_type": "code",
   "execution_count": 15,
   "metadata": {
    "ExecuteTime": {
     "end_time": "2021-02-03T13:37:13.951095Z",
     "start_time": "2021-02-03T13:37:13.913628Z"
    }
   },
   "outputs": [
    {
     "data": {
      "text/plain": [
       "0    0.501446\n",
       "1    0.498554\n",
       "Name: binary_sub, dtype: float64"
      ]
     },
     "execution_count": 15,
     "metadata": {},
     "output_type": "execute_result"
    }
   ],
   "source": [
    "df['binary_sub'].value_counts(normalize=True)"
   ]
  },
  {
   "cell_type": "markdown",
   "metadata": {},
   "source": [
    "Our baseline model accuracy is thus 50.1%, about equal to predicting a coin flip. We need to be able to improve significantly upon this score to have trust in our model!"
   ]
  },
  {
   "cell_type": "markdown",
   "metadata": {},
   "source": [
    "## Model Pre-Processing\n",
    "\n",
    "Before we fit our logistic regression, we need to split our data into training and testing datasets, implement the Term Frequency - Inverse Document Frequency (TF-IDF) vectorization to account for words that are outliers as well as weight words depending on their importance to the sentence, and standardize the feature values so that we can compare the values of each feature on the same scale when fitting the model .  "
   ]
  },
  {
   "cell_type": "code",
   "execution_count": 16,
   "metadata": {
    "ExecuteTime": {
     "end_time": "2021-02-03T13:37:13.966720Z",
     "start_time": "2021-02-03T13:37:13.955075Z"
    }
   },
   "outputs": [],
   "source": [
    "# Splitting data into preditive features and resulting feature\n",
    "X = df.drop(columns='binary_sub')\n",
    "y = df['binary_sub']"
   ]
  },
  {
   "cell_type": "code",
   "execution_count": 17,
   "metadata": {
    "ExecuteTime": {
     "end_time": "2021-02-03T13:37:13.988616Z",
     "start_time": "2021-02-03T13:37:13.970514Z"
    }
   },
   "outputs": [],
   "source": [
    "# Splitting data further into a model training set and a model testing set. \n",
    "X_train, X_test, y_train, y_test = train_test_split(X, y, test_size=0.2, random_state=16)"
   ]
  },
  {
   "cell_type": "markdown",
   "metadata": {
    "ExecuteTime": {
     "end_time": "2021-01-30T23:28:51.672202Z",
     "start_time": "2021-01-30T23:28:51.372802Z"
    }
   },
   "source": [
    "### TF-IDF \n",
    "\n",
    "TF-IDF acconts for the importance of a word in a corpus of documents by measuring its frequency in a document relative to its total frequency in all of the documents. In this case, one document is a single post in either subreddit, and the total documents are all the posts in both subreddits. \n",
    "\n",
    "Only perform TF-IDF vectorization on the lemma_totaltext feature, so I will have to concatenate the TF-IDF vector DataFrame with the DataFrame including all of my original features. \n",
    "\n",
    "To make the vectorization more impactful, I removed stop words (commonly used words that do not convey much meaning) and outlier words (words that occur less than 3 times in all documents). "
   ]
  },
  {
   "cell_type": "code",
   "execution_count": 18,
   "metadata": {
    "ExecuteTime": {
     "end_time": "2021-02-03T13:37:14.001602Z",
     "start_time": "2021-02-03T13:37:13.996443Z"
    }
   },
   "outputs": [],
   "source": [
    "# Removing stop words and outlier words from tfidf corpus of words\n",
    "tvec = TfidfVectorizer(stop_words='english', min_df=3)"
   ]
  },
  {
   "cell_type": "code",
   "execution_count": 19,
   "metadata": {
    "ExecuteTime": {
     "end_time": "2021-02-03T13:37:16.325898Z",
     "start_time": "2021-02-03T13:37:14.012511Z"
    }
   },
   "outputs": [],
   "source": [
    "# Fit and transforming training lemma text with TFIDF\n",
    "X_train_tvec = tvec.fit_transform(X_train['lemma_totaltext'])\n",
    "\n",
    "# Transforming test lemma totaltext based on training fit\n",
    "X_test_tvec = tvec.transform(X_test['lemma_totaltext'])"
   ]
  },
  {
   "cell_type": "code",
   "execution_count": 20,
   "metadata": {
    "ExecuteTime": {
     "end_time": "2021-02-03T13:37:16.367726Z",
     "start_time": "2021-02-03T13:37:16.332121Z"
    }
   },
   "outputs": [],
   "source": [
    "# All totaltext words that were vectorized\n",
    "vocab = tvec.get_feature_names()"
   ]
  },
  {
   "cell_type": "markdown",
   "metadata": {},
   "source": [
    "Have to make sure all TF-IDF vectors are dense so that matrix is rank efficient. It also ensures that the vectors do not take up too much unnecessary space in the DataFrame."
   ]
  },
  {
   "cell_type": "code",
   "execution_count": 21,
   "metadata": {
    "ExecuteTime": {
     "end_time": "2021-02-03T13:37:18.101771Z",
     "start_time": "2021-02-03T13:37:16.375750Z"
    }
   },
   "outputs": [],
   "source": [
    "# Creating dense DataFrame of all training vectors\n",
    "train_tvec_df = pd.DataFrame(X_train_tvec.todense(), columns=vocab)\n",
    "\n",
    "# Creating dense Dataframe of all test vectors\n",
    "test_tvec_df = pd.DataFrame(X_test_tvec.todense(), columns=vocab)"
   ]
  },
  {
   "cell_type": "markdown",
   "metadata": {
    "ExecuteTime": {
     "end_time": "2021-01-30T23:52:40.052044Z",
     "start_time": "2021-01-30T23:52:40.047460Z"
    }
   },
   "source": [
    "Creating Dataframes with all features minus the lemma_totaltext, which was just vectorized and made into a separate DataFrame"
   ]
  },
  {
   "cell_type": "code",
   "execution_count": 22,
   "metadata": {
    "ExecuteTime": {
     "end_time": "2021-02-03T13:37:18.110203Z",
     "start_time": "2021-02-03T13:37:18.103850Z"
    }
   },
   "outputs": [],
   "source": [
    "X_train_clean = X_train.drop(columns='lemma_totaltext')"
   ]
  },
  {
   "cell_type": "code",
   "execution_count": 23,
   "metadata": {
    "ExecuteTime": {
     "end_time": "2021-02-03T13:37:18.116813Z",
     "start_time": "2021-02-03T13:37:18.113472Z"
    }
   },
   "outputs": [],
   "source": [
    "# Have to drop index to concatenate TF-IDF Vector DataFrame and original DataFrame \n",
    "#X_train_clean.reset_index(drop=True, inplace=True)"
   ]
  },
  {
   "cell_type": "code",
   "execution_count": 24,
   "metadata": {
    "ExecuteTime": {
     "end_time": "2021-02-03T13:37:18.123962Z",
     "start_time": "2021-02-03T13:37:18.118853Z"
    }
   },
   "outputs": [],
   "source": [
    "# Creating clean test DataFrame minus the lemma_totaltext\n",
    "X_test_clean = X_test.drop(columns='lemma_totaltext')"
   ]
  },
  {
   "cell_type": "markdown",
   "metadata": {},
   "source": [
    "Standard Scaling is necessary because the VADER Sentiment scores are on a different scale than the other features. "
   ]
  },
  {
   "cell_type": "code",
   "execution_count": 25,
   "metadata": {
    "ExecuteTime": {
     "end_time": "2021-02-03T13:37:18.143966Z",
     "start_time": "2021-02-03T13:37:18.126804Z"
    }
   },
   "outputs": [],
   "source": [
    "# Standard Scaling the clean train and test DataFrame\n",
    "ss = StandardScaler()\n",
    "Z_train_clean = ss.fit_transform(X_train_clean)\n",
    "Z_test_clean = ss.transform(X_test_clean)\n",
    "\n"
   ]
  },
  {
   "cell_type": "code",
   "execution_count": 26,
   "metadata": {
    "ExecuteTime": {
     "end_time": "2021-02-03T13:37:44.956709Z",
     "start_time": "2021-02-03T13:37:18.146256Z"
    }
   },
   "outputs": [],
   "source": [
    "# Standard Scaling the TF-IDF vector DataFrame \n",
    "sc = StandardScaler()\n",
    "\n",
    "Z_tvec_train = sc.fit_transform(train_tvec_df)\n",
    "Z_tvec_test = sc.transform(test_tvec_df)"
   ]
  },
  {
   "cell_type": "code",
   "execution_count": 27,
   "metadata": {
    "ExecuteTime": {
     "end_time": "2021-02-03T13:37:53.619970Z",
     "start_time": "2021-02-03T13:37:44.977661Z"
    }
   },
   "outputs": [],
   "source": [
    "# Concatenating the standard scaled original feature dataframe vectors \n",
    "# and TF-IDF vector DataFrame\n",
    "train_vec = np.concatenate([Z_train_clean, Z_tvec_train], axis=1)\n"
   ]
  },
  {
   "cell_type": "code",
   "execution_count": 28,
   "metadata": {
    "ExecuteTime": {
     "end_time": "2021-02-03T13:37:53.760725Z",
     "start_time": "2021-02-03T13:37:53.632480Z"
    }
   },
   "outputs": [],
   "source": [
    "#X_test_clean.reset_index(drop=True, inplace=True)"
   ]
  },
  {
   "cell_type": "code",
   "execution_count": 29,
   "metadata": {
    "ExecuteTime": {
     "end_time": "2021-02-03T13:37:55.308412Z",
     "start_time": "2021-02-03T13:37:53.771347Z"
    }
   },
   "outputs": [],
   "source": [
    "test_vec = np.concatenate([Z_test_clean, Z_tvec_test], axis=1)\n",
    "#test = pd.concat([Z_test_clean, test_tvec_df], axis=1)"
   ]
  },
  {
   "cell_type": "markdown",
   "metadata": {},
   "source": [
    "### Fitting Logistic Regression Model 1"
   ]
  },
  {
   "cell_type": "code",
   "execution_count": 30,
   "metadata": {
    "ExecuteTime": {
     "end_time": "2021-02-03T13:37:55.486083Z",
     "start_time": "2021-02-03T13:37:55.334497Z"
    }
   },
   "outputs": [],
   "source": [
    "# Insantietating Logistic Regression\n",
    "lr = LogisticRegression()"
   ]
  },
  {
   "cell_type": "code",
   "execution_count": 31,
   "metadata": {
    "ExecuteTime": {
     "end_time": "2021-02-03T13:38:20.293304Z",
     "start_time": "2021-02-03T13:37:55.496900Z"
    }
   },
   "outputs": [
    {
     "data": {
      "text/plain": [
       "LogisticRegression()"
      ]
     },
     "execution_count": 31,
     "metadata": {},
     "output_type": "execute_result"
    }
   ],
   "source": [
    "# Fitting the model to our train standard scaled vectors. \n",
    "lr.fit(train_vec, y_train)"
   ]
  },
  {
   "cell_type": "code",
   "execution_count": 32,
   "metadata": {
    "ExecuteTime": {
     "end_time": "2021-02-03T13:38:20.682636Z",
     "start_time": "2021-02-03T13:38:20.299485Z"
    }
   },
   "outputs": [
    {
     "data": {
      "text/plain": [
       "1.0"
      ]
     },
     "execution_count": 32,
     "metadata": {},
     "output_type": "execute_result"
    }
   ],
   "source": [
    "# Find mean accuracy of logistic regression on training data\n",
    "train_accuracy = lr.score(train_vec, y_train)\n",
    "train_accuracy"
   ]
  },
  {
   "cell_type": "code",
   "execution_count": 33,
   "metadata": {
    "ExecuteTime": {
     "end_time": "2021-02-03T13:40:30.734674Z",
     "start_time": "2021-02-03T13:38:20.686716Z"
    }
   },
   "outputs": [
    {
     "name": "stdout",
     "output_type": "stream",
     "text": [
      "Accuracy: 0.98 ± 0.00\n"
     ]
    }
   ],
   "source": [
    "# Cross-validating the logistic regression to determine what accuracy might \n",
    "# be for testing data\n",
    "scores = cross_val_score(lr, train_vec, y_train, cv = 5)\n",
    "\n",
    "print('Accuracy: {:.2f} ± {:.2f}'.format(scores.mean(), scores.std() * 2))"
   ]
  },
  {
   "cell_type": "code",
   "execution_count": 34,
   "metadata": {
    "ExecuteTime": {
     "end_time": "2021-02-03T13:40:34.203892Z",
     "start_time": "2021-02-03T13:40:30.754210Z"
    }
   },
   "outputs": [
    {
     "data": {
      "text/plain": [
       "0.9862911266201396"
      ]
     },
     "execution_count": 34,
     "metadata": {},
     "output_type": "execute_result"
    }
   ],
   "source": [
    "# Finding Mean accuracy of logistic regression model on test data\n",
    "test_accuracy = lr.score(test_vec, y_test)\n",
    "test_accuracy"
   ]
  },
  {
   "cell_type": "markdown",
   "metadata": {},
   "source": [
    "### Analysis of Logistic Regression Model 1\n",
    "\n",
    "The training and testing accuracy are very similar at 100% accurate and 98.2% accurate , which suggests that the model is not overfit or underfit. However, I am curious if I can still improve the testing accuracy with a GridSearch. "
   ]
  },
  {
   "cell_type": "markdown",
   "metadata": {},
   "source": [
    "### Fitting Logistic Regression Model 2\n",
    "#### GridSearch Logistic Regression Hyper-Paramters\n",
    "\n",
    "I will now run the logistic regression with a pipeline which automatically fits and transforms the training data with TF-IDF vectorizer before fitting the logistic regression. The gridsearchCV will then run different combinations of logistic regression parameters and return the best parameters based on the optimal accuracy score from all of the different combinations. \n",
    "\n",
    "* The solver parameter consists of different logistic regression methods that can potentially be used by LogisticRegression method.\n",
    "* The penalty parameter dictates the type of regularization the logistic regression uses for reducing the variance error. L1 is the lasso regularization, and L2 is the Ridge regularization. \n",
    "* The logistic C is a regularization hyperparameter. The smaller it is, the stronger the regularization, and thus the less variance error in the model. "
   ]
  },
  {
   "cell_type": "code",
   "execution_count": 35,
   "metadata": {
    "ExecuteTime": {
     "end_time": "2021-02-03T13:40:34.217758Z",
     "start_time": "2021-02-03T13:40:34.209860Z"
    }
   },
   "outputs": [],
   "source": [
    "# Constructing pipeline\n",
    "pipe = Pipeline([\n",
    "    \n",
    "    ('tvec', TfidfVectorizer(analyzer='word', stop_words='english')),\n",
    "    ('lr', LogisticRegression())\n",
    "    \n",
    "])"
   ]
  },
  {
   "cell_type": "code",
   "execution_count": 36,
   "metadata": {
    "ExecuteTime": {
     "end_time": "2021-02-03T13:40:34.229889Z",
     "start_time": "2021-02-03T13:40:34.222760Z"
    }
   },
   "outputs": [],
   "source": [
    "# Creating dictionary of parameters to gridsearch over\n",
    "params = {\n",
    "    'lr__solver': ['newton-cg','lbfgs', 'liblinear', 'sag', 'saga'],\n",
    "    'lr__penalty': ['l1', 'l2'],\n",
    "    'lr__C' : [0.001, 0.01, 0.1, 1, 10, 100, 1000]\n",
    "}"
   ]
  },
  {
   "cell_type": "code",
   "execution_count": 37,
   "metadata": {
    "ExecuteTime": {
     "end_time": "2021-02-03T13:40:34.246583Z",
     "start_time": "2021-02-03T13:40:34.235551Z"
    }
   },
   "outputs": [],
   "source": [
    "# Instantietating gridsearch with pipeline\n",
    "gs = GridSearchCV(pipe, param_grid=params, n_jobs=-1)"
   ]
  },
  {
   "cell_type": "code",
   "execution_count": 38,
   "metadata": {
    "ExecuteTime": {
     "end_time": "2021-02-03T13:40:34.255914Z",
     "start_time": "2021-02-03T13:40:34.250509Z"
    }
   },
   "outputs": [],
   "source": [
    "# Creating new X_train variable specifically for the pipeline\n",
    "# Only lemmatized text are going to be used as predictor\n",
    "gs_train = X_train['lemma_totaltext']"
   ]
  },
  {
   "cell_type": "code",
   "execution_count": 39,
   "metadata": {
    "ExecuteTime": {
     "end_time": "2021-02-03T13:40:34.264192Z",
     "start_time": "2021-02-03T13:40:34.259627Z"
    }
   },
   "outputs": [],
   "source": [
    "# Filtering out warnings so as not to pollute code.\n",
    "warnings.filterwarnings(\"ignore\")"
   ]
  },
  {
   "cell_type": "code",
   "execution_count": 40,
   "metadata": {
    "ExecuteTime": {
     "end_time": "2021-02-03T13:48:37.890084Z",
     "start_time": "2021-02-03T13:40:34.266627Z"
    }
   },
   "outputs": [
    {
     "data": {
      "text/plain": [
       "GridSearchCV(estimator=Pipeline(steps=[('tvec',\n",
       "                                        TfidfVectorizer(stop_words='english')),\n",
       "                                       ('lr', LogisticRegression())]),\n",
       "             n_jobs=-1,\n",
       "             param_grid={'lr__C': [0.001, 0.01, 0.1, 1, 10, 100, 1000],\n",
       "                         'lr__penalty': ['l1', 'l2'],\n",
       "                         'lr__solver': ['newton-cg', 'lbfgs', 'liblinear',\n",
       "                                        'sag', 'saga']})"
      ]
     },
     "execution_count": 40,
     "metadata": {},
     "output_type": "execute_result"
    }
   ],
   "source": [
    "# Gridsearching hyperparameters through pipeline\n",
    "gs.fit(gs_train, y_train)"
   ]
  },
  {
   "cell_type": "code",
   "execution_count": 41,
   "metadata": {
    "ExecuteTime": {
     "end_time": "2021-02-03T13:48:37.906517Z",
     "start_time": "2021-02-03T13:48:37.895269Z"
    }
   },
   "outputs": [
    {
     "data": {
      "text/plain": [
       "{'lr__C': 100, 'lr__penalty': 'l2', 'lr__solver': 'sag'}"
      ]
     },
     "execution_count": 41,
     "metadata": {},
     "output_type": "execute_result"
    }
   ],
   "source": [
    "# Best parameters from the grid search \n",
    "gs.best_params_"
   ]
  },
  {
   "cell_type": "code",
   "execution_count": 42,
   "metadata": {
    "ExecuteTime": {
     "end_time": "2021-02-03T13:48:39.065712Z",
     "start_time": "2021-02-03T13:48:37.908651Z"
    }
   },
   "outputs": [
    {
     "data": {
      "text/plain": [
       "1.0"
      ]
     },
     "execution_count": 42,
     "metadata": {},
     "output_type": "execute_result"
    }
   ],
   "source": [
    "# Training accuracy\n",
    "gs_train_accuracy = gs.score(gs_train, y_train)\n",
    "gs_train_accuracy\n",
    "#print(f'Train Accuracy: {gs_train_accuracy}')"
   ]
  },
  {
   "cell_type": "code",
   "execution_count": 43,
   "metadata": {
    "ExecuteTime": {
     "end_time": "2021-02-03T13:48:39.072356Z",
     "start_time": "2021-02-03T13:48:39.067522Z"
    }
   },
   "outputs": [],
   "source": [
    "# Creating testing variable\n",
    "gs_test = X_test['lemma_totaltext']"
   ]
  },
  {
   "cell_type": "code",
   "execution_count": 44,
   "metadata": {
    "ExecuteTime": {
     "end_time": "2021-02-03T13:48:39.383843Z",
     "start_time": "2021-02-03T13:48:39.075382Z"
    }
   },
   "outputs": [
    {
     "data": {
      "text/plain": [
       "0.9900299102691924"
      ]
     },
     "execution_count": 44,
     "metadata": {},
     "output_type": "execute_result"
    }
   ],
   "source": [
    "# Evaluating the accuracy of the model on testing data\n",
    "gs_test_accuracy = gs.score(gs_test, y_test)\n",
    "gs_test_accuracy"
   ]
  },
  {
   "cell_type": "markdown",
   "metadata": {
    "ExecuteTime": {
     "end_time": "2021-02-01T00:20:30.804839Z",
     "start_time": "2021-02-01T00:19:34.229Z"
    }
   },
   "source": [
    "The model improved slightly with grid search and reducing features so that only lemmatized text is used as predictor."
   ]
  },
  {
   "cell_type": "markdown",
   "metadata": {},
   "source": [
    "#### Logistic Regression Model 3 \n",
    "\n",
    "What is the model accuracy with all features and hyperparameters chosen by previous gridsearch?"
   ]
  },
  {
   "cell_type": "code",
   "execution_count": 45,
   "metadata": {
    "ExecuteTime": {
     "end_time": "2021-02-03T13:48:39.393548Z",
     "start_time": "2021-02-03T13:48:39.385893Z"
    }
   },
   "outputs": [],
   "source": [
    "new_lr = LogisticRegression(solver='saga', penalty='l2', C=1000)"
   ]
  },
  {
   "cell_type": "code",
   "execution_count": 46,
   "metadata": {
    "ExecuteTime": {
     "end_time": "2021-02-03T13:51:47.157789Z",
     "start_time": "2021-02-03T13:48:39.396069Z"
    }
   },
   "outputs": [
    {
     "data": {
      "text/plain": [
       "LogisticRegression(C=1000, solver='saga')"
      ]
     },
     "execution_count": 46,
     "metadata": {},
     "output_type": "execute_result"
    }
   ],
   "source": [
    "new_lr.fit(train_vec, y_train)"
   ]
  },
  {
   "cell_type": "code",
   "execution_count": 47,
   "metadata": {
    "ExecuteTime": {
     "end_time": "2021-02-03T13:51:47.373248Z",
     "start_time": "2021-02-03T13:51:47.165798Z"
    }
   },
   "outputs": [
    {
     "data": {
      "text/plain": [
       "0.9998753583447588"
      ]
     },
     "execution_count": 47,
     "metadata": {},
     "output_type": "execute_result"
    }
   ],
   "source": [
    "new_train_accuracy = new_lr.score(train_vec, y_train)\n",
    "new_train_accuracy"
   ]
  },
  {
   "cell_type": "code",
   "execution_count": 48,
   "metadata": {
    "ExecuteTime": {
     "end_time": "2021-02-03T13:51:49.347668Z",
     "start_time": "2021-02-03T13:51:47.376028Z"
    }
   },
   "outputs": [
    {
     "data": {
      "text/plain": [
       "0.9865403788634097"
      ]
     },
     "execution_count": 48,
     "metadata": {},
     "output_type": "execute_result"
    }
   ],
   "source": [
    "new_test_accuracy = new_lr.score(test_vec, y_test)\n",
    "new_test_accuracy"
   ]
  },
  {
   "cell_type": "markdown",
   "metadata": {},
   "source": [
    "#### Analysis \n",
    "Essentially the same accuracy as the model with less features, therefore only need to use lemmatized total text for subsequent models. While Part-of-Speech tagging and sentiment analysis provided interesting information, they were not ultimately useful features for modeling compared to just looking at the vocabulary within the post. "
   ]
  },
  {
   "cell_type": "markdown",
   "metadata": {},
   "source": [
    "## Evaluating Logistic Regression and Best Features \n",
    "\n",
    "Based on the fact that our best Logistic Regression testing score occurred without the parts-of-speech proportions or sentiment analysis, it is safe to assume that the the lemmatized total text itself are the only features required for producing an accurate model. Therefore, I will only be using the lemmatized total text for future models. "
   ]
  },
  {
   "cell_type": "markdown",
   "metadata": {},
   "source": [
    "#### Coefficient Weights\n",
    "\n",
    "To determine which words had the largest impact on our model, we can analyze each word's contribution to the total logistic regression slope. We do so by evaluating the beta coefficients produced by the logistic regression, which is each features slope contribution to total slope. \n",
    "Because this is a logistic regression, the slope is in log(odds), but we can transform this to odds to evaluate how each predictor (or lemmatized word), holding other predictors constant, leads to a change in the independent variable for a 1 standard deviation increase in the predictor (because the predictors are StandardScaled). "
   ]
  },
  {
   "cell_type": "code",
   "execution_count": 49,
   "metadata": {
    "ExecuteTime": {
     "end_time": "2021-02-03T13:51:49.361336Z",
     "start_time": "2021-02-03T13:51:49.352609Z"
    }
   },
   "outputs": [],
   "source": [
    "# Getting beta coefficients from GridSearch \n",
    "coefs = gs.best_estimator_.named_steps['lr'].coef_"
   ]
  },
  {
   "cell_type": "code",
   "execution_count": 50,
   "metadata": {
    "ExecuteTime": {
     "end_time": "2021-02-03T13:51:49.437501Z",
     "start_time": "2021-02-03T13:51:49.366149Z"
    }
   },
   "outputs": [],
   "source": [
    "# Getting vocabulary words associated with beta coefficients\n",
    "vocab = gs.best_estimator_.named_steps['tvec'].get_feature_names()"
   ]
  },
  {
   "cell_type": "code",
   "execution_count": 51,
   "metadata": {
    "ExecuteTime": {
     "end_time": "2021-02-03T13:51:49.505921Z",
     "start_time": "2021-02-03T13:51:49.442633Z"
    }
   },
   "outputs": [],
   "source": [
    "# Creating a DataFrame of top words contributing to slope and their corresponding slope\n",
    "coef_df = pd.DataFrame({'top_words': vocab, 'log(odds)': coefs[0]})"
   ]
  },
  {
   "cell_type": "code",
   "execution_count": 52,
   "metadata": {
    "ExecuteTime": {
     "end_time": "2021-02-03T13:51:49.606163Z",
     "start_time": "2021-02-03T13:51:49.510078Z"
    }
   },
   "outputs": [],
   "source": [
    "# Calculating how feature increases the odds of text being political \n",
    "coef_df['odds'] = coef_df['log(odds)'].map(lambda x: math.exp(x))"
   ]
  },
  {
   "cell_type": "code",
   "execution_count": 53,
   "metadata": {
    "ExecuteTime": {
     "end_time": "2021-02-03T13:51:49.631818Z",
     "start_time": "2021-02-03T13:51:49.608432Z"
    }
   },
   "outputs": [],
   "source": [
    "# Setting index to be the words\n",
    "coef_df.set_index('top_words', inplace=True)"
   ]
  },
  {
   "cell_type": "code",
   "execution_count": 54,
   "metadata": {
    "ExecuteTime": {
     "end_time": "2021-02-03T13:51:49.712921Z",
     "start_time": "2021-02-03T13:51:49.636346Z"
    }
   },
   "outputs": [
    {
     "data": {
      "text/html": [
       "<div>\n",
       "<style scoped>\n",
       "    .dataframe tbody tr th:only-of-type {\n",
       "        vertical-align: middle;\n",
       "    }\n",
       "\n",
       "    .dataframe tbody tr th {\n",
       "        vertical-align: top;\n",
       "    }\n",
       "\n",
       "    .dataframe thead th {\n",
       "        text-align: right;\n",
       "    }\n",
       "</style>\n",
       "<table border=\"1\" class=\"dataframe\">\n",
       "  <thead>\n",
       "    <tr style=\"text-align: right;\">\n",
       "      <th></th>\n",
       "      <th>log(odds)</th>\n",
       "      <th>odds</th>\n",
       "    </tr>\n",
       "    <tr>\n",
       "      <th>top_words</th>\n",
       "      <th></th>\n",
       "      <th></th>\n",
       "    </tr>\n",
       "  </thead>\n",
       "  <tbody>\n",
       "    <tr>\n",
       "      <th>trump</th>\n",
       "      <td>23.080033</td>\n",
       "      <td>1.055676e+10</td>\n",
       "    </tr>\n",
       "    <tr>\n",
       "      <th>political</th>\n",
       "      <td>21.735012</td>\n",
       "      <td>2.750398e+09</td>\n",
       "    </tr>\n",
       "    <tr>\n",
       "      <th>politics</th>\n",
       "      <td>17.974812</td>\n",
       "      <td>6.402679e+07</td>\n",
       "    </tr>\n",
       "    <tr>\n",
       "      <th>election</th>\n",
       "      <td>16.316837</td>\n",
       "      <td>1.219866e+07</td>\n",
       "    </tr>\n",
       "    <tr>\n",
       "      <th>president</th>\n",
       "      <td>15.211991</td>\n",
       "      <td>4.040954e+06</td>\n",
       "    </tr>\n",
       "    <tr>\n",
       "      <th>candidate</th>\n",
       "      <td>14.820706</td>\n",
       "      <td>2.732440e+06</td>\n",
       "    </tr>\n",
       "    <tr>\n",
       "      <th>hillary</th>\n",
       "      <td>13.276444</td>\n",
       "      <td>5.832927e+05</td>\n",
       "    </tr>\n",
       "    <tr>\n",
       "      <th>vote</th>\n",
       "      <td>12.949629</td>\n",
       "      <td>4.206806e+05</td>\n",
       "    </tr>\n",
       "    <tr>\n",
       "      <th>clinton</th>\n",
       "      <td>12.229806</td>\n",
       "      <td>2.048035e+05</td>\n",
       "    </tr>\n",
       "  </tbody>\n",
       "</table>\n",
       "</div>"
      ],
      "text/plain": [
       "           log(odds)          odds\n",
       "top_words                         \n",
       "trump      23.080033  1.055676e+10\n",
       "political  21.735012  2.750398e+09\n",
       "politics   17.974812  6.402679e+07\n",
       "election   16.316837  1.219866e+07\n",
       "president  15.211991  4.040954e+06\n",
       "candidate  14.820706  2.732440e+06\n",
       "hillary    13.276444  5.832927e+05\n",
       "vote       12.949629  4.206806e+05\n",
       "clinton    12.229806  2.048035e+05"
      ]
     },
     "execution_count": 54,
     "metadata": {},
     "output_type": "execute_result"
    }
   ],
   "source": [
    "# Most political words (i.e. political text identifying words)\n",
    "political_words = coef_df.sort_values('odds', ascending=False).head(9)\n",
    "political_words"
   ]
  },
  {
   "cell_type": "code",
   "execution_count": 55,
   "metadata": {
    "ExecuteTime": {
     "end_time": "2021-02-03T13:51:49.739307Z",
     "start_time": "2021-02-03T13:51:49.721862Z"
    }
   },
   "outputs": [],
   "source": [
    "# Most casual words (i.e. words that are the most casual)\n",
    "casual_words = coef_df.sort_values('odds').head(15)"
   ]
  },
  {
   "cell_type": "code",
   "execution_count": 57,
   "metadata": {
    "ExecuteTime": {
     "end_time": "2021-02-03T13:52:23.995077Z",
     "start_time": "2021-02-03T13:52:23.734329Z"
    }
   },
   "outputs": [
    {
     "data": {
      "image/png": "[encoded data removed]",
      "text/plain": [
       "<Figure size 720x720 with 1 Axes>"
      ]
     },
     "metadata": {
      "needs_background": "light"
     },
     "output_type": "display_data"
    }
   ],
   "source": [
    "plt.figure(figsize=(10,10))\n",
    "plt.barh(political_words.index, political_words['log(odds)'], color='grey')\n",
    "plt.title('Most Political Words', fontsize=18)\n",
    "plt.xlabel('log(Odds)', fontsize=16)\n",
    "plt.yticks(fontsize=16)\n",
    "plt.xticks(fontsize=12)\n",
    "plt.savefig('../Figures/most_political_words.png')"
   ]
  },
  {
   "cell_type": "markdown",
   "metadata": {},
   "source": [
    "#### Analysis\n",
    "\n",
    "For my random forest model, I need to remove \"politics\" and \"political\" from the lemmatized text in order to determine whether they are causing data leakage, leading to abnormally high accuracy rate. However, there are many other words with large slopes that are helping differentiate casual from political conversations, particular proper nouns (names of politicians).  "
   ]
  },
  {
   "cell_type": "markdown",
   "metadata": {},
   "source": [
    "Casual words are the words that contribute the lowest log(odds), they are the worst predictors of political context"
   ]
  },
  {
   "cell_type": "code",
   "execution_count": 58,
   "metadata": {
    "ExecuteTime": {
     "end_time": "2021-02-03T13:52:30.184616Z",
     "start_time": "2021-02-03T13:52:29.866358Z"
    }
   },
   "outputs": [
    {
     "data": {
      "image/png": "[encoded data removed]",
      "text/plain": [
       "<Figure size 720x720 with 1 Axes>"
      ]
     },
     "metadata": {
      "needs_background": "light"
     },
     "output_type": "display_data"
    }
   ],
   "source": [
    "plt.figure(figsize=(10,10))\n",
    "plt.barh(casual_words.index, casual_words['log(odds)'], color='lightgreen')\n",
    "plt.xlim((0, -16))\n",
    "plt.title('Most Casual Words', fontsize=18)\n",
    "plt.xticks(fontsize=12)\n",
    "plt.xlabel('log(Odds)', fontsize=16)\n",
    "plt.yticks(fontsize=16)\n",
    "plt.savefig('../Figures/most_casual_words.png');"
   ]
  },
  {
   "cell_type": "markdown",
   "metadata": {},
   "source": [
    "#### Analysis\n",
    "\n",
    "There is a huge discrepancy between the log odds of very political words and casual words. I am getting great separation between the vocabulary of political and casual conversations."
   ]
  },
  {
   "cell_type": "markdown",
   "metadata": {},
   "source": [
    "#### Classification Metrics\n",
    "\n",
    "In order to evaluate the model, I need to be able to evaluate how many posts were classified correctly, and how many posts were classified incorrectly. In order to do so, I can use classification metrics that illuminate how many outcomes were true positives (correctly predicted political text), false positives (incorrectly predicted political text), false negatives (icorrectly predicted casual text), and true negatives (correctly predicted casual text). "
   ]
  },
  {
   "cell_type": "code",
   "execution_count": 59,
   "metadata": {
    "ExecuteTime": {
     "end_time": "2021-02-03T13:52:35.982292Z",
     "start_time": "2021-02-03T13:52:35.567772Z"
    }
   },
   "outputs": [],
   "source": [
    "# y predictions using grid search variable created earlier\n",
    "y_hat = gs.predict(gs_test)"
   ]
  },
  {
   "cell_type": "code",
   "execution_count": 60,
   "metadata": {
    "ExecuteTime": {
     "end_time": "2021-02-03T13:52:35.992793Z",
     "start_time": "2021-02-03T13:52:35.985158Z"
    }
   },
   "outputs": [],
   "source": [
    "# Creating DataFrame to help me remember which confusion matrix quadrants\n",
    "# Correspond to which outcomes. \n",
    "cm = np.array([['True Negative', 'False Positive'],\n",
    "                            ['False Negative', 'True Positive']])\n",
    "\n",
    "cm = pd.DataFrame(cm,columns = ['Pred Casual', 'Pred Political'], \n",
    "                      index = ['Actual Casual','Actual Political'])"
   ]
  },
  {
   "cell_type": "code",
   "execution_count": 61,
   "metadata": {
    "ExecuteTime": {
     "end_time": "2021-02-03T13:52:36.946807Z",
     "start_time": "2021-02-03T13:52:36.370453Z"
    }
   },
   "outputs": [
    {
     "data": {
      "text/html": [
       "<div>\n",
       "<style scoped>\n",
       "    .dataframe tbody tr th:only-of-type {\n",
       "        vertical-align: middle;\n",
       "    }\n",
       "\n",
       "    .dataframe tbody tr th {\n",
       "        vertical-align: top;\n",
       "    }\n",
       "\n",
       "    .dataframe thead th {\n",
       "        text-align: right;\n",
       "    }\n",
       "</style>\n",
       "<table border=\"1\" class=\"dataframe\">\n",
       "  <thead>\n",
       "    <tr style=\"text-align: right;\">\n",
       "      <th></th>\n",
       "      <th>Pred Casual</th>\n",
       "      <th>Pred Political</th>\n",
       "    </tr>\n",
       "  </thead>\n",
       "  <tbody>\n",
       "    <tr>\n",
       "      <th>Actual Casual</th>\n",
       "      <td>True Negative</td>\n",
       "      <td>False Positive</td>\n",
       "    </tr>\n",
       "    <tr>\n",
       "      <th>Actual Political</th>\n",
       "      <td>False Negative</td>\n",
       "      <td>True Positive</td>\n",
       "    </tr>\n",
       "  </tbody>\n",
       "</table>\n",
       "</div>"
      ],
      "text/plain": [
       "                     Pred Casual  Pred Political\n",
       "Actual Casual      True Negative  False Positive\n",
       "Actual Political  False Negative   True Positive"
      ]
     },
     "metadata": {},
     "output_type": "display_data"
    },
    {
     "data": {
      "text/plain": [
       "<Figure size 720x720 with 0 Axes>"
      ]
     },
     "metadata": {},
     "output_type": "display_data"
    },
    {
     "data": {
      "image/png": "[encoded data removed]",
      "text/plain": [
       "<Figure size 432x288 with 2 Axes>"
      ]
     },
     "metadata": {
      "needs_background": "light"
     },
     "output_type": "display_data"
    }
   ],
   "source": [
    "# Displaying sample confusion matrix\n",
    "display(cm)\n",
    "\n",
    "# Displaying actual confusion matrix \n",
    "plt.figure(figsize=(10,10))\n",
    "metrics.plot_confusion_matrix(gs, gs_test, y_test, cmap='Accent', \n",
    "                      values_format='d', display_labels=['CasualConversation', \n",
    "                                                         'PoliticalDiscussion']);"
   ]
  },
  {
   "cell_type": "markdown",
   "metadata": {},
   "source": [
    "My model predicted:\n",
    "\n",
    "* 1983 True Positives (Correctly predicted r/PoliticalDiscussion)\n",
    "* 1984 True Negatives (Correctly predicted r/CasualConversation)\n",
    "* 24 False Negatives (Incorrectly predicted r/CasualConversation)\n",
    "* 21 False Positives (Incorrectly predicted r/PoliticalDiscussion)\n",
    "\n",
    "Overall, these are fantastic ratios and indicate that I am on the right path for differentiating between the casual and political discussions. "
   ]
  },
  {
   "cell_type": "markdown",
   "metadata": {},
   "source": [
    "### ROC curve\n",
    "\n",
    "The ROC curve tells us how separated our two classes, CasualConversations and PoliticalDiscussions, are. The more area under the blue curve, the larger the separation between the two classes. "
   ]
  },
  {
   "cell_type": "code",
   "execution_count": 62,
   "metadata": {
    "ExecuteTime": {
     "end_time": "2021-02-03T13:52:38.132232Z",
     "start_time": "2021-02-03T13:52:37.679513Z"
    }
   },
   "outputs": [
    {
     "data": {
      "image/png": "[encoded data removed]",
      "text/plain": [
       "<Figure size 432x288 with 1 Axes>"
      ]
     },
     "metadata": {
      "needs_background": "light"
     },
     "output_type": "display_data"
    }
   ],
   "source": [
    "# ROC curve\n",
    "metrics.plot_roc_curve(gs, gs_test, y_test)\n",
    "# add worst case scenario line\n",
    "plt.plot([0, 1], [0, 1])\n",
    "plt.title('ROC AUC Curve');"
   ]
  },
  {
   "cell_type": "markdown",
   "metadata": {},
   "source": [
    "#### Analysis\n",
    "My ROC curve shows that the CasualConversation and PoliticalDiscussion classes are perfectly separated, indicating my model is as good as it can get. This was also seen by the high degree of separation in the log(odds) of the political and casual words. "
   ]
  },
  {
   "cell_type": "code",
   "execution_count": 63,
   "metadata": {
    "ExecuteTime": {
     "end_time": "2021-02-03T13:52:38.408755Z",
     "start_time": "2021-02-03T13:52:38.396348Z"
    }
   },
   "outputs": [
    {
     "data": {
      "text/plain": [
       "0.9900309018186969"
      ]
     },
     "execution_count": 63,
     "metadata": {},
     "output_type": "execute_result"
    }
   ],
   "source": [
    "# ROC AUC score nearly 1\n",
    "metrics.roc_auc_score(y_test, y_hat)"
   ]
  },
  {
   "cell_type": "markdown",
   "metadata": {},
   "source": [
    "* Accuracy: What percentage of political and casual texts did I correctly predict? \n",
    "* Sensitivity: Among political texts, what percentage of texts did I correctly predict?\n",
    "* Specificity: Among casual texts, what percentage of texts did I correctly predict? \n",
    "* Precision: Among those I predicted to be political texts, what percentage of texts did I correctly predict?"
   ]
  },
  {
   "cell_type": "code",
   "execution_count": 64,
   "metadata": {
    "ExecuteTime": {
     "end_time": "2021-02-03T13:52:39.341832Z",
     "start_time": "2021-02-03T13:52:39.330461Z"
    }
   },
   "outputs": [],
   "source": [
    "accuracy = metrics.accuracy_score(y_test, y_hat)\n",
    "\n",
    "#specificity = true negative/(true neagtive +false positive)\n",
    "specificity = 1984/(1984+21) \n",
    "\n",
    "sensitivity =  metrics.recall_score(y_test, y_hat)\n",
    "\n",
    "precision = metrics.precision_score(y_test, y_hat)"
   ]
  },
  {
   "cell_type": "code",
   "execution_count": 65,
   "metadata": {
    "ExecuteTime": {
     "end_time": "2021-02-03T13:52:39.796677Z",
     "start_time": "2021-02-03T13:52:39.788422Z"
    }
   },
   "outputs": [
    {
     "name": "stdout",
     "output_type": "stream",
     "text": [
      "My accuracy is:  0.99\n",
      "My specificity is:  0.99\n",
      "My sensitivity is:  0.99\n",
      "My precision is:  0.99\n"
     ]
    }
   ],
   "source": [
    "print('My accuracy is: ', round(accuracy,2))\n",
    "print('My specificity is: ', round(specificity, 2))\n",
    "print('My sensitivity is: ', round(sensitivity,2))\n",
    "print('My precision is: ', round(precision,2))"
   ]
  },
  {
   "cell_type": "code",
   "execution_count": 66,
   "metadata": {
    "ExecuteTime": {
     "end_time": "2021-02-03T13:52:40.249521Z",
     "start_time": "2021-02-03T13:52:40.229658Z"
    }
   },
   "outputs": [
    {
     "name": "stdout",
     "output_type": "stream",
     "text": [
      "              precision    recall  f1-score   support\n",
      "\n",
      "           0       0.99      0.99      0.99      2005\n",
      "           1       0.99      0.99      0.99      2007\n",
      "\n",
      "    accuracy                           0.99      4012\n",
      "   macro avg       0.99      0.99      0.99      4012\n",
      "weighted avg       0.99      0.99      0.99      4012\n",
      "\n"
     ]
    }
   ],
   "source": [
    "# Creating classification report \n",
    "print(metrics.classification_report(y_test, y_hat, labels=[0,1]))"
   ]
  },
  {
   "cell_type": "markdown",
   "metadata": {},
   "source": [
    "The F1 score is the harmonic mean of precision and sensitivity (recall). It tells me how well I was able to predict \n",
    "\n",
    "\n"
   ]
  },
  {
   "cell_type": "markdown",
   "metadata": {},
   "source": [
    "Model Summary Table:\n",
    "\n",
    "|Model| Train Accuracy| Test Accuracy| AUC ROC| True Positive| True Negative| False Positive| False Negative|\n",
    "|---|---|---|---|---|---|---|---|\n",
    "|Logistic Regression| 1.0|0.989|0.989|1983|1984|21|24|"
   ]
  },
  {
   "cell_type": "markdown",
   "metadata": {},
   "source": [
    "### Conclusion \n",
    "\n",
    "My logistic regressionmodel performed extremely well. However, I want to analyze whether it performed so well due to data leakage by leaving the politic lemma in my totaltext. "
   ]
  },
  {
   "cell_type": "markdown",
   "metadata": {},
   "source": [
    "# Please Continue to Notebook 3B"
   ]
  }
 ],
 "metadata": {
  "kernelspec": {
   "display_name": "Python 3",
   "language": "python",
   "name": "python3"
  },
  "language_info": {
   "codemirror_mode": {
    "name": "ipython",
    "version": 3
   },
   "file_extension": ".py",
   "mimetype": "text/x-python",
   "name": "python",
   "nbconvert_exporter": "python",
   "pygments_lexer": "ipython3",
   "version": "3.8.5"
  }
 },
 "nbformat": 4,
 "nbformat_minor": 4
}
